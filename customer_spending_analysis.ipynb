{
 "cells": [
  {
   "cell_type": "code",
   "execution_count": 1,
   "id": "f3c11ffa",
   "metadata": {},
   "outputs": [],
   "source": [
    "#Importing packages and setting the working directory\n",
    "import os\n",
    "import glob\n",
    "import pandas as pd\n",
    "import numpy as np\n",
    "os.chdir(\"C:/users/pravi/dell_ds\")\n",
    "%matplotlib inline\n",
    "import matplotlib.pyplot as plt\n",
    "import seaborn as sns\n",
    "import warnings\n",
    "warnings.filterwarnings('ignore')"
   ]
  },
  {
   "cell_type": "markdown",
   "id": "8a6bf052",
   "metadata": {},
   "source": [
    "# # Data Cleaning"
   ]
  },
  {
   "cell_type": "code",
   "execution_count": 2,
   "id": "d7c2ce9c",
   "metadata": {},
   "outputs": [],
   "source": [
    "# Concatenating the three CSV files\n",
    "#Use glob to match the pattern ‘csv’\n",
    "extension = 'csv'\n",
    "all_filenames = [i for i in glob.glob('*.{}'.format(extension))]"
   ]
  },
  {
   "cell_type": "code",
   "execution_count": 3,
   "id": "4d58547b",
   "metadata": {},
   "outputs": [],
   "source": [
    "#combine all files in the list\n",
    "combined_df = pd.concat([pd.read_csv(f) for f in all_filenames ])\n",
    "#export to csv\n",
    "combined_df.to_csv( \"combined_csv.csv\", index=False, encoding='utf-8-sig')"
   ]
  },
  {
   "cell_type": "code",
   "execution_count": 4,
   "id": "79d3c855",
   "metadata": {},
   "outputs": [
    {
     "data": {
      "text/html": [
       "<div>\n",
       "<style scoped>\n",
       "    .dataframe tbody tr th:only-of-type {\n",
       "        vertical-align: middle;\n",
       "    }\n",
       "\n",
       "    .dataframe tbody tr th {\n",
       "        vertical-align: top;\n",
       "    }\n",
       "\n",
       "    .dataframe thead th {\n",
       "        text-align: right;\n",
       "    }\n",
       "</style>\n",
       "<table border=\"1\" class=\"dataframe\">\n",
       "  <thead>\n",
       "    <tr style=\"text-align: right;\">\n",
       "      <th></th>\n",
       "      <th>user_id</th>\n",
       "      <th>prod_id</th>\n",
       "      <th>sex</th>\n",
       "      <th>age_cat</th>\n",
       "      <th>credit_status_cd</th>\n",
       "      <th>edcution_cat</th>\n",
       "      <th>years_in_residence</th>\n",
       "      <th>car_ownership</th>\n",
       "      <th>prod_cat_1</th>\n",
       "      <th>prod_cat_2</th>\n",
       "      <th>prod_cat_3</th>\n",
       "      <th>revenue_usd</th>\n",
       "    </tr>\n",
       "  </thead>\n",
       "  <tbody>\n",
       "    <tr>\n",
       "      <th>0</th>\n",
       "      <td>DCN-1000001</td>\n",
       "      <td>DSKU-P00069042</td>\n",
       "      <td>F</td>\n",
       "      <td>18-25</td>\n",
       "      <td>10</td>\n",
       "      <td>university</td>\n",
       "      <td>2</td>\n",
       "      <td>0</td>\n",
       "      <td>3</td>\n",
       "      <td>NaN</td>\n",
       "      <td>NaN</td>\n",
       "      <td>9847.06</td>\n",
       "    </tr>\n",
       "    <tr>\n",
       "      <th>1</th>\n",
       "      <td>DCN-1000001</td>\n",
       "      <td>DSKU-P00248942</td>\n",
       "      <td>F</td>\n",
       "      <td>18-25</td>\n",
       "      <td>10</td>\n",
       "      <td>university</td>\n",
       "      <td>2</td>\n",
       "      <td>0</td>\n",
       "      <td>1</td>\n",
       "      <td>6.0</td>\n",
       "      <td>14.0</td>\n",
       "      <td>17882.35</td>\n",
       "    </tr>\n",
       "    <tr>\n",
       "      <th>2</th>\n",
       "      <td>DCN-1000001</td>\n",
       "      <td>DSKU-P00087842</td>\n",
       "      <td>F</td>\n",
       "      <td>18-25</td>\n",
       "      <td>10</td>\n",
       "      <td>university</td>\n",
       "      <td>2</td>\n",
       "      <td>0</td>\n",
       "      <td>12</td>\n",
       "      <td>NaN</td>\n",
       "      <td>NaN</td>\n",
       "      <td>1672.94</td>\n",
       "    </tr>\n",
       "    <tr>\n",
       "      <th>3</th>\n",
       "      <td>DCN-1000001</td>\n",
       "      <td>DSKU-P00085442</td>\n",
       "      <td>F</td>\n",
       "      <td>18-25</td>\n",
       "      <td>10</td>\n",
       "      <td>university</td>\n",
       "      <td>2</td>\n",
       "      <td>0</td>\n",
       "      <td>12</td>\n",
       "      <td>14.0</td>\n",
       "      <td>NaN</td>\n",
       "      <td>1243.53</td>\n",
       "    </tr>\n",
       "    <tr>\n",
       "      <th>4</th>\n",
       "      <td>DCN-1000002</td>\n",
       "      <td>DSKU-P00285442</td>\n",
       "      <td>M</td>\n",
       "      <td>55+</td>\n",
       "      <td>16</td>\n",
       "      <td>high</td>\n",
       "      <td>4+</td>\n",
       "      <td>0</td>\n",
       "      <td>8</td>\n",
       "      <td>NaN</td>\n",
       "      <td>NaN</td>\n",
       "      <td>9375.29</td>\n",
       "    </tr>\n",
       "  </tbody>\n",
       "</table>\n",
       "</div>"
      ],
      "text/plain": [
       "       user_id         prod_id sex age_cat  credit_status_cd edcution_cat  \\\n",
       "0  DCN-1000001  DSKU-P00069042   F   18-25                10   university   \n",
       "1  DCN-1000001  DSKU-P00248942   F   18-25                10   university   \n",
       "2  DCN-1000001  DSKU-P00087842   F   18-25                10   university   \n",
       "3  DCN-1000001  DSKU-P00085442   F   18-25                10   university   \n",
       "4  DCN-1000002  DSKU-P00285442   M     55+                16         high   \n",
       "\n",
       "  years_in_residence  car_ownership  prod_cat_1  prod_cat_2  prod_cat_3  \\\n",
       "0                  2              0           3         NaN         NaN   \n",
       "1                  2              0           1         6.0        14.0   \n",
       "2                  2              0          12         NaN         NaN   \n",
       "3                  2              0          12        14.0         NaN   \n",
       "4                 4+              0           8         NaN         NaN   \n",
       "\n",
       "   revenue_usd  \n",
       "0      9847.06  \n",
       "1     17882.35  \n",
       "2      1672.94  \n",
       "3      1243.53  \n",
       "4      9375.29  "
      ]
     },
     "execution_count": 4,
     "metadata": {},
     "output_type": "execute_result"
    }
   ],
   "source": [
    "combined_df.head()\n"
   ]
  },
  {
   "cell_type": "code",
   "execution_count": 5,
   "id": "554fc876",
   "metadata": {},
   "outputs": [
    {
     "data": {
      "text/html": [
       "<div>\n",
       "<style scoped>\n",
       "    .dataframe tbody tr th:only-of-type {\n",
       "        vertical-align: middle;\n",
       "    }\n",
       "\n",
       "    .dataframe tbody tr th {\n",
       "        vertical-align: top;\n",
       "    }\n",
       "\n",
       "    .dataframe thead th {\n",
       "        text-align: right;\n",
       "    }\n",
       "</style>\n",
       "<table border=\"1\" class=\"dataframe\">\n",
       "  <thead>\n",
       "    <tr style=\"text-align: right;\">\n",
       "      <th></th>\n",
       "      <th>credit_status_cd</th>\n",
       "      <th>car_ownership</th>\n",
       "      <th>prod_cat_1</th>\n",
       "      <th>prod_cat_2</th>\n",
       "      <th>prod_cat_3</th>\n",
       "      <th>revenue_usd</th>\n",
       "    </tr>\n",
       "  </thead>\n",
       "  <tbody>\n",
       "    <tr>\n",
       "      <th>count</th>\n",
       "      <td>537577.00000</td>\n",
       "      <td>537577.000000</td>\n",
       "      <td>537577.000000</td>\n",
       "      <td>370591.000000</td>\n",
       "      <td>164278.000000</td>\n",
       "      <td>537577.000000</td>\n",
       "    </tr>\n",
       "    <tr>\n",
       "      <th>mean</th>\n",
       "      <td>8.08271</td>\n",
       "      <td>0.408797</td>\n",
       "      <td>5.295546</td>\n",
       "      <td>9.842144</td>\n",
       "      <td>12.669840</td>\n",
       "      <td>10981.011587</td>\n",
       "    </tr>\n",
       "    <tr>\n",
       "      <th>std</th>\n",
       "      <td>6.52412</td>\n",
       "      <td>0.491612</td>\n",
       "      <td>3.750701</td>\n",
       "      <td>5.087259</td>\n",
       "      <td>4.124341</td>\n",
       "      <td>5860.026037</td>\n",
       "    </tr>\n",
       "    <tr>\n",
       "      <th>min</th>\n",
       "      <td>0.00000</td>\n",
       "      <td>0.000000</td>\n",
       "      <td>1.000000</td>\n",
       "      <td>2.000000</td>\n",
       "      <td>3.000000</td>\n",
       "      <td>217.650000</td>\n",
       "    </tr>\n",
       "    <tr>\n",
       "      <th>25%</th>\n",
       "      <td>2.00000</td>\n",
       "      <td>0.000000</td>\n",
       "      <td>1.000000</td>\n",
       "      <td>5.000000</td>\n",
       "      <td>9.000000</td>\n",
       "      <td>6901.180000</td>\n",
       "    </tr>\n",
       "    <tr>\n",
       "      <th>50%</th>\n",
       "      <td>7.00000</td>\n",
       "      <td>0.000000</td>\n",
       "      <td>5.000000</td>\n",
       "      <td>9.000000</td>\n",
       "      <td>14.000000</td>\n",
       "      <td>9484.710000</td>\n",
       "    </tr>\n",
       "    <tr>\n",
       "      <th>75%</th>\n",
       "      <td>14.00000</td>\n",
       "      <td>1.000000</td>\n",
       "      <td>8.000000</td>\n",
       "      <td>15.000000</td>\n",
       "      <td>16.000000</td>\n",
       "      <td>14203.530000</td>\n",
       "    </tr>\n",
       "    <tr>\n",
       "      <th>max</th>\n",
       "      <td>20.00000</td>\n",
       "      <td>1.000000</td>\n",
       "      <td>18.000000</td>\n",
       "      <td>18.000000</td>\n",
       "      <td>18.000000</td>\n",
       "      <td>28189.410000</td>\n",
       "    </tr>\n",
       "  </tbody>\n",
       "</table>\n",
       "</div>"
      ],
      "text/plain": [
       "       credit_status_cd  car_ownership     prod_cat_1     prod_cat_2  \\\n",
       "count      537577.00000  537577.000000  537577.000000  370591.000000   \n",
       "mean            8.08271       0.408797       5.295546       9.842144   \n",
       "std             6.52412       0.491612       3.750701       5.087259   \n",
       "min             0.00000       0.000000       1.000000       2.000000   \n",
       "25%             2.00000       0.000000       1.000000       5.000000   \n",
       "50%             7.00000       0.000000       5.000000       9.000000   \n",
       "75%            14.00000       1.000000       8.000000      15.000000   \n",
       "max            20.00000       1.000000      18.000000      18.000000   \n",
       "\n",
       "          prod_cat_3    revenue_usd  \n",
       "count  164278.000000  537577.000000  \n",
       "mean       12.669840   10981.011587  \n",
       "std         4.124341    5860.026037  \n",
       "min         3.000000     217.650000  \n",
       "25%         9.000000    6901.180000  \n",
       "50%        14.000000    9484.710000  \n",
       "75%        16.000000   14203.530000  \n",
       "max        18.000000   28189.410000  "
      ]
     },
     "execution_count": 5,
     "metadata": {},
     "output_type": "execute_result"
    }
   ],
   "source": [
    "combined_df.describe()"
   ]
  },
  {
   "cell_type": "code",
   "execution_count": 6,
   "id": "9e79407e",
   "metadata": {},
   "outputs": [],
   "source": [
    "# another way to concatenate csv files\n",
    "#file1 = open(\"customer-1.csv\", \"a\")\n",
    "#file2 = open(\"customer-2.csv\", \"r\")\n",
    "#file3=open(\"customer-3.csv\",\"r\")\n",
    "\n",
    "#for line in file2:\n",
    "  # file1.write(line)\n",
    "#for line in file3:\n",
    "  # file1.write(line)\n",
    "#file1.close()\n",
    "#file2.close()\n",
    "#file3.close()\n"
   ]
  },
  {
   "cell_type": "code",
   "execution_count": 7,
   "id": "364f7d2e",
   "metadata": {},
   "outputs": [
    {
     "data": {
      "text/plain": [
       "user_id                object\n",
       "prod_id                object\n",
       "sex                    object\n",
       "age_cat                object\n",
       "credit_status_cd        int64\n",
       "edcution_cat           object\n",
       "years_in_residence     object\n",
       "car_ownership           int64\n",
       "prod_cat_1              int64\n",
       "prod_cat_2            float64\n",
       "prod_cat_3            float64\n",
       "revenue_usd           float64\n",
       "dtype: object"
      ]
     },
     "execution_count": 7,
     "metadata": {},
     "output_type": "execute_result"
    }
   ],
   "source": [
    "# 2. Check the datatypes of your columns. \n",
    "combined_df.dtypes\n"
   ]
  },
  {
   "cell_type": "code",
   "execution_count": 8,
   "id": "93489614",
   "metadata": {},
   "outputs": [
    {
     "data": {
      "text/plain": [
       "DSKU-P00265242    1858\n",
       "DSKU-P00110742    1591\n",
       "DSKU-P00025442    1586\n",
       "DSKU-P00112142    1539\n",
       "DSKU-P00057642    1430\n",
       "                  ... \n",
       "DSKU-P00172642       1\n",
       "DSKU-P00080442       1\n",
       "DSKU-P00166442       1\n",
       "DSKU-P00064542       1\n",
       "DSKU-P00295642       1\n",
       "Name: prod_id, Length: 3623, dtype: int64"
      ]
     },
     "execution_count": 8,
     "metadata": {},
     "output_type": "execute_result"
    }
   ],
   "source": [
    "#Checking for unique values\n",
    "combined_df.prod_id.value_counts()"
   ]
  },
  {
   "cell_type": "code",
   "execution_count": 9,
   "id": "015370cd",
   "metadata": {},
   "outputs": [
    {
     "data": {
      "text/plain": [
       "user_id               537577\n",
       "prod_id               537577\n",
       "sex                   537577\n",
       "age_cat               537577\n",
       "credit_status_cd      537577\n",
       "edcution_cat          537577\n",
       "years_in_residence    537577\n",
       "car_ownership         537577\n",
       "prod_cat_1            537577\n",
       "prod_cat_2            370591\n",
       "prod_cat_3            164278\n",
       "revenue_usd           537577\n",
       "dtype: int64"
      ]
     },
     "execution_count": 9,
     "metadata": {},
     "output_type": "execute_result"
    }
   ],
   "source": [
    "#Count of data items\n",
    "combined_df.count()"
   ]
  },
  {
   "cell_type": "code",
   "execution_count": 10,
   "id": "7d06f837",
   "metadata": {},
   "outputs": [
    {
     "data": {
      "text/html": [
       "<div>\n",
       "<style scoped>\n",
       "    .dataframe tbody tr th:only-of-type {\n",
       "        vertical-align: middle;\n",
       "    }\n",
       "\n",
       "    .dataframe tbody tr th {\n",
       "        vertical-align: top;\n",
       "    }\n",
       "\n",
       "    .dataframe thead th {\n",
       "        text-align: right;\n",
       "    }\n",
       "</style>\n",
       "<table border=\"1\" class=\"dataframe\">\n",
       "  <thead>\n",
       "    <tr style=\"text-align: right;\">\n",
       "      <th></th>\n",
       "      <th>count</th>\n",
       "      <th>mean</th>\n",
       "      <th>std</th>\n",
       "      <th>min</th>\n",
       "      <th>25%</th>\n",
       "      <th>50%</th>\n",
       "      <th>75%</th>\n",
       "      <th>max</th>\n",
       "    </tr>\n",
       "  </thead>\n",
       "  <tbody>\n",
       "    <tr>\n",
       "      <th>credit_status_cd</th>\n",
       "      <td>537577.0</td>\n",
       "      <td>8.082710</td>\n",
       "      <td>6.524120</td>\n",
       "      <td>0.00</td>\n",
       "      <td>2.00</td>\n",
       "      <td>7.00</td>\n",
       "      <td>14.00</td>\n",
       "      <td>20.00</td>\n",
       "    </tr>\n",
       "    <tr>\n",
       "      <th>car_ownership</th>\n",
       "      <td>537577.0</td>\n",
       "      <td>0.408797</td>\n",
       "      <td>0.491612</td>\n",
       "      <td>0.00</td>\n",
       "      <td>0.00</td>\n",
       "      <td>0.00</td>\n",
       "      <td>1.00</td>\n",
       "      <td>1.00</td>\n",
       "    </tr>\n",
       "    <tr>\n",
       "      <th>prod_cat_1</th>\n",
       "      <td>537577.0</td>\n",
       "      <td>5.295546</td>\n",
       "      <td>3.750701</td>\n",
       "      <td>1.00</td>\n",
       "      <td>1.00</td>\n",
       "      <td>5.00</td>\n",
       "      <td>8.00</td>\n",
       "      <td>18.00</td>\n",
       "    </tr>\n",
       "    <tr>\n",
       "      <th>prod_cat_2</th>\n",
       "      <td>370591.0</td>\n",
       "      <td>9.842144</td>\n",
       "      <td>5.087259</td>\n",
       "      <td>2.00</td>\n",
       "      <td>5.00</td>\n",
       "      <td>9.00</td>\n",
       "      <td>15.00</td>\n",
       "      <td>18.00</td>\n",
       "    </tr>\n",
       "    <tr>\n",
       "      <th>prod_cat_3</th>\n",
       "      <td>164278.0</td>\n",
       "      <td>12.669840</td>\n",
       "      <td>4.124341</td>\n",
       "      <td>3.00</td>\n",
       "      <td>9.00</td>\n",
       "      <td>14.00</td>\n",
       "      <td>16.00</td>\n",
       "      <td>18.00</td>\n",
       "    </tr>\n",
       "    <tr>\n",
       "      <th>revenue_usd</th>\n",
       "      <td>537577.0</td>\n",
       "      <td>10981.011587</td>\n",
       "      <td>5860.026037</td>\n",
       "      <td>217.65</td>\n",
       "      <td>6901.18</td>\n",
       "      <td>9484.71</td>\n",
       "      <td>14203.53</td>\n",
       "      <td>28189.41</td>\n",
       "    </tr>\n",
       "  </tbody>\n",
       "</table>\n",
       "</div>"
      ],
      "text/plain": [
       "                     count          mean          std     min      25%  \\\n",
       "credit_status_cd  537577.0      8.082710     6.524120    0.00     2.00   \n",
       "car_ownership     537577.0      0.408797     0.491612    0.00     0.00   \n",
       "prod_cat_1        537577.0      5.295546     3.750701    1.00     1.00   \n",
       "prod_cat_2        370591.0      9.842144     5.087259    2.00     5.00   \n",
       "prod_cat_3        164278.0     12.669840     4.124341    3.00     9.00   \n",
       "revenue_usd       537577.0  10981.011587  5860.026037  217.65  6901.18   \n",
       "\n",
       "                      50%       75%       max  \n",
       "credit_status_cd     7.00     14.00     20.00  \n",
       "car_ownership        0.00      1.00      1.00  \n",
       "prod_cat_1           5.00      8.00     18.00  \n",
       "prod_cat_2           9.00     15.00     18.00  \n",
       "prod_cat_3          14.00     16.00     18.00  \n",
       "revenue_usd       9484.71  14203.53  28189.41  "
      ]
     },
     "execution_count": 10,
     "metadata": {},
     "output_type": "execute_result"
    }
   ],
   "source": [
    "#statistical Summary\n",
    "combined_df.describe().T"
   ]
  },
  {
   "cell_type": "code",
   "execution_count": 11,
   "id": "bb33c3c9",
   "metadata": {},
   "outputs": [
    {
     "data": {
      "text/plain": [
       "user_id                    0\n",
       "prod_id                    0\n",
       "sex                        0\n",
       "age_cat                    0\n",
       "credit_status_cd           0\n",
       "edcution_cat               0\n",
       "years_in_residence         0\n",
       "car_ownership              0\n",
       "prod_cat_1                 0\n",
       "prod_cat_2            166986\n",
       "prod_cat_3            373299\n",
       "revenue_usd                0\n",
       "dtype: int64"
      ]
     },
     "execution_count": 11,
     "metadata": {},
     "output_type": "execute_result"
    }
   ],
   "source": [
    "#Checking for null values\n",
    "combined_df.isnull().sum()\n"
   ]
  },
  {
   "cell_type": "code",
   "execution_count": 12,
   "id": "793b1dd1",
   "metadata": {},
   "outputs": [
    {
     "data": {
      "text/html": [
       "<div>\n",
       "<style scoped>\n",
       "    .dataframe tbody tr th:only-of-type {\n",
       "        vertical-align: middle;\n",
       "    }\n",
       "\n",
       "    .dataframe tbody tr th {\n",
       "        vertical-align: top;\n",
       "    }\n",
       "\n",
       "    .dataframe thead th {\n",
       "        text-align: right;\n",
       "    }\n",
       "</style>\n",
       "<table border=\"1\" class=\"dataframe\">\n",
       "  <thead>\n",
       "    <tr style=\"text-align: right;\">\n",
       "      <th></th>\n",
       "      <th>user_id</th>\n",
       "      <th>prod_id</th>\n",
       "      <th>sex</th>\n",
       "      <th>age_cat</th>\n",
       "      <th>credit_status_cd</th>\n",
       "      <th>education_cat</th>\n",
       "      <th>years_in_residence</th>\n",
       "      <th>car_ownership</th>\n",
       "      <th>prod_cat_1</th>\n",
       "      <th>prod_cat_2</th>\n",
       "      <th>prod_cat_3</th>\n",
       "      <th>revenue_usd</th>\n",
       "    </tr>\n",
       "  </thead>\n",
       "  <tbody>\n",
       "    <tr>\n",
       "      <th>0</th>\n",
       "      <td>DCN-1000001</td>\n",
       "      <td>DSKU-P00069042</td>\n",
       "      <td>F</td>\n",
       "      <td>18-25</td>\n",
       "      <td>10</td>\n",
       "      <td>university</td>\n",
       "      <td>2</td>\n",
       "      <td>0</td>\n",
       "      <td>3</td>\n",
       "      <td>NaN</td>\n",
       "      <td>NaN</td>\n",
       "      <td>9847.06</td>\n",
       "    </tr>\n",
       "    <tr>\n",
       "      <th>1</th>\n",
       "      <td>DCN-1000001</td>\n",
       "      <td>DSKU-P00248942</td>\n",
       "      <td>F</td>\n",
       "      <td>18-25</td>\n",
       "      <td>10</td>\n",
       "      <td>university</td>\n",
       "      <td>2</td>\n",
       "      <td>0</td>\n",
       "      <td>1</td>\n",
       "      <td>6.0</td>\n",
       "      <td>14.0</td>\n",
       "      <td>17882.35</td>\n",
       "    </tr>\n",
       "    <tr>\n",
       "      <th>2</th>\n",
       "      <td>DCN-1000001</td>\n",
       "      <td>DSKU-P00087842</td>\n",
       "      <td>F</td>\n",
       "      <td>18-25</td>\n",
       "      <td>10</td>\n",
       "      <td>university</td>\n",
       "      <td>2</td>\n",
       "      <td>0</td>\n",
       "      <td>12</td>\n",
       "      <td>NaN</td>\n",
       "      <td>NaN</td>\n",
       "      <td>1672.94</td>\n",
       "    </tr>\n",
       "    <tr>\n",
       "      <th>3</th>\n",
       "      <td>DCN-1000001</td>\n",
       "      <td>DSKU-P00085442</td>\n",
       "      <td>F</td>\n",
       "      <td>18-25</td>\n",
       "      <td>10</td>\n",
       "      <td>university</td>\n",
       "      <td>2</td>\n",
       "      <td>0</td>\n",
       "      <td>12</td>\n",
       "      <td>14.0</td>\n",
       "      <td>NaN</td>\n",
       "      <td>1243.53</td>\n",
       "    </tr>\n",
       "    <tr>\n",
       "      <th>4</th>\n",
       "      <td>DCN-1000002</td>\n",
       "      <td>DSKU-P00285442</td>\n",
       "      <td>M</td>\n",
       "      <td>55+</td>\n",
       "      <td>16</td>\n",
       "      <td>high</td>\n",
       "      <td>4+</td>\n",
       "      <td>0</td>\n",
       "      <td>8</td>\n",
       "      <td>NaN</td>\n",
       "      <td>NaN</td>\n",
       "      <td>9375.29</td>\n",
       "    </tr>\n",
       "    <tr>\n",
       "      <th>...</th>\n",
       "      <td>...</td>\n",
       "      <td>...</td>\n",
       "      <td>...</td>\n",
       "      <td>...</td>\n",
       "      <td>...</td>\n",
       "      <td>...</td>\n",
       "      <td>...</td>\n",
       "      <td>...</td>\n",
       "      <td>...</td>\n",
       "      <td>...</td>\n",
       "      <td>...</td>\n",
       "      <td>...</td>\n",
       "    </tr>\n",
       "    <tr>\n",
       "      <th>137572</th>\n",
       "      <td>DCN-1004737</td>\n",
       "      <td>DSKU-P00193542</td>\n",
       "      <td>M</td>\n",
       "      <td>36-45</td>\n",
       "      <td>16</td>\n",
       "      <td>high</td>\n",
       "      <td>1</td>\n",
       "      <td>0</td>\n",
       "      <td>1</td>\n",
       "      <td>2.0</td>\n",
       "      <td>NaN</td>\n",
       "      <td>13722.35</td>\n",
       "    </tr>\n",
       "    <tr>\n",
       "      <th>137573</th>\n",
       "      <td>DCN-1004737</td>\n",
       "      <td>DSKU-P00111142</td>\n",
       "      <td>M</td>\n",
       "      <td>36-45</td>\n",
       "      <td>16</td>\n",
       "      <td>high</td>\n",
       "      <td>1</td>\n",
       "      <td>0</td>\n",
       "      <td>1</td>\n",
       "      <td>15.0</td>\n",
       "      <td>16.0</td>\n",
       "      <td>22583.53</td>\n",
       "    </tr>\n",
       "    <tr>\n",
       "      <th>137574</th>\n",
       "      <td>DCN-1004737</td>\n",
       "      <td>DSKU-P00345942</td>\n",
       "      <td>M</td>\n",
       "      <td>36-45</td>\n",
       "      <td>16</td>\n",
       "      <td>high</td>\n",
       "      <td>1</td>\n",
       "      <td>0</td>\n",
       "      <td>8</td>\n",
       "      <td>15.0</td>\n",
       "      <td>NaN</td>\n",
       "      <td>9462.35</td>\n",
       "    </tr>\n",
       "    <tr>\n",
       "      <th>137575</th>\n",
       "      <td>DCN-1004737</td>\n",
       "      <td>DSKU-P00285842</td>\n",
       "      <td>M</td>\n",
       "      <td>36-45</td>\n",
       "      <td>16</td>\n",
       "      <td>high</td>\n",
       "      <td>1</td>\n",
       "      <td>0</td>\n",
       "      <td>5</td>\n",
       "      <td>NaN</td>\n",
       "      <td>NaN</td>\n",
       "      <td>8437.65</td>\n",
       "    </tr>\n",
       "    <tr>\n",
       "      <th>137576</th>\n",
       "      <td>DCN-1004737</td>\n",
       "      <td>DSKU-P00118242</td>\n",
       "      <td>M</td>\n",
       "      <td>36-45</td>\n",
       "      <td>16</td>\n",
       "      <td>high</td>\n",
       "      <td>1</td>\n",
       "      <td>0</td>\n",
       "      <td>5</td>\n",
       "      <td>8.0</td>\n",
       "      <td>NaN</td>\n",
       "      <td>8088.24</td>\n",
       "    </tr>\n",
       "  </tbody>\n",
       "</table>\n",
       "<p>537577 rows × 12 columns</p>\n",
       "</div>"
      ],
      "text/plain": [
       "            user_id         prod_id sex age_cat  credit_status_cd  \\\n",
       "0       DCN-1000001  DSKU-P00069042   F   18-25                10   \n",
       "1       DCN-1000001  DSKU-P00248942   F   18-25                10   \n",
       "2       DCN-1000001  DSKU-P00087842   F   18-25                10   \n",
       "3       DCN-1000001  DSKU-P00085442   F   18-25                10   \n",
       "4       DCN-1000002  DSKU-P00285442   M     55+                16   \n",
       "...             ...             ...  ..     ...               ...   \n",
       "137572  DCN-1004737  DSKU-P00193542   M   36-45                16   \n",
       "137573  DCN-1004737  DSKU-P00111142   M   36-45                16   \n",
       "137574  DCN-1004737  DSKU-P00345942   M   36-45                16   \n",
       "137575  DCN-1004737  DSKU-P00285842   M   36-45                16   \n",
       "137576  DCN-1004737  DSKU-P00118242   M   36-45                16   \n",
       "\n",
       "       education_cat years_in_residence  car_ownership  prod_cat_1  \\\n",
       "0         university                  2              0           3   \n",
       "1         university                  2              0           1   \n",
       "2         university                  2              0          12   \n",
       "3         university                  2              0          12   \n",
       "4               high                 4+              0           8   \n",
       "...              ...                ...            ...         ...   \n",
       "137572          high                  1              0           1   \n",
       "137573          high                  1              0           1   \n",
       "137574          high                  1              0           8   \n",
       "137575          high                  1              0           5   \n",
       "137576          high                  1              0           5   \n",
       "\n",
       "        prod_cat_2  prod_cat_3  revenue_usd  \n",
       "0              NaN         NaN      9847.06  \n",
       "1              6.0        14.0     17882.35  \n",
       "2              NaN         NaN      1672.94  \n",
       "3             14.0         NaN      1243.53  \n",
       "4              NaN         NaN      9375.29  \n",
       "...            ...         ...          ...  \n",
       "137572         2.0         NaN     13722.35  \n",
       "137573        15.0        16.0     22583.53  \n",
       "137574        15.0         NaN      9462.35  \n",
       "137575         NaN         NaN      8437.65  \n",
       "137576         8.0         NaN      8088.24  \n",
       "\n",
       "[537577 rows x 12 columns]"
      ]
     },
     "execution_count": 12,
     "metadata": {},
     "output_type": "execute_result"
    }
   ],
   "source": [
    "#Correcting the column name using rename function.\n",
    "clean_combined_df=combined_df.rename(columns={\"edcution_cat\":\"education_cat\"})\n",
    "clean_combined_df"
   ]
  },
  {
   "cell_type": "code",
   "execution_count": 13,
   "id": "6b9559a2",
   "metadata": {},
   "outputs": [],
   "source": [
    "#replacing null values to zeros\n",
    "clean_combined_df=clean_combined_df.fillna(0)"
   ]
  },
  {
   "cell_type": "code",
   "execution_count": 14,
   "id": "00891919",
   "metadata": {},
   "outputs": [
    {
     "data": {
      "text/plain": [
       "user_id                object\n",
       "prod_id                object\n",
       "sex                    object\n",
       "age_cat                object\n",
       "credit_status_cd        int64\n",
       "education_cat          object\n",
       "years_in_residence     object\n",
       "car_ownership           int64\n",
       "prod_cat_1              int64\n",
       "prod_cat_2            float64\n",
       "prod_cat_3            float64\n",
       "revenue_usd           float64\n",
       "dtype: object"
      ]
     },
     "execution_count": 14,
     "metadata": {},
     "output_type": "execute_result"
    }
   ],
   "source": [
    "clean_combined_df.dtypes"
   ]
  },
  {
   "cell_type": "code",
   "execution_count": 15,
   "id": "4fc6d8b4",
   "metadata": {},
   "outputs": [
    {
     "data": {
      "text/html": [
       "<div>\n",
       "<style scoped>\n",
       "    .dataframe tbody tr th:only-of-type {\n",
       "        vertical-align: middle;\n",
       "    }\n",
       "\n",
       "    .dataframe tbody tr th {\n",
       "        vertical-align: top;\n",
       "    }\n",
       "\n",
       "    .dataframe thead th {\n",
       "        text-align: right;\n",
       "    }\n",
       "</style>\n",
       "<table border=\"1\" class=\"dataframe\">\n",
       "  <thead>\n",
       "    <tr style=\"text-align: right;\">\n",
       "      <th></th>\n",
       "      <th>user_id</th>\n",
       "      <th>prod_id</th>\n",
       "      <th>sex</th>\n",
       "      <th>age_cat</th>\n",
       "      <th>credit_status_cd</th>\n",
       "      <th>education_cat</th>\n",
       "      <th>years_in_residence</th>\n",
       "      <th>car_ownership</th>\n",
       "      <th>prod_cat_1</th>\n",
       "      <th>prod_cat_2</th>\n",
       "      <th>prod_cat_3</th>\n",
       "      <th>revenue_usd</th>\n",
       "    </tr>\n",
       "  </thead>\n",
       "  <tbody>\n",
       "    <tr>\n",
       "      <th>0</th>\n",
       "      <td>DCN-1000001</td>\n",
       "      <td>DSKU-P00069042</td>\n",
       "      <td>F</td>\n",
       "      <td>18-25</td>\n",
       "      <td>10</td>\n",
       "      <td>university</td>\n",
       "      <td>2</td>\n",
       "      <td>0</td>\n",
       "      <td>3</td>\n",
       "      <td>0.0</td>\n",
       "      <td>0.0</td>\n",
       "      <td>9847.06</td>\n",
       "    </tr>\n",
       "    <tr>\n",
       "      <th>1</th>\n",
       "      <td>DCN-1000001</td>\n",
       "      <td>DSKU-P00248942</td>\n",
       "      <td>F</td>\n",
       "      <td>18-25</td>\n",
       "      <td>10</td>\n",
       "      <td>university</td>\n",
       "      <td>2</td>\n",
       "      <td>0</td>\n",
       "      <td>1</td>\n",
       "      <td>6.0</td>\n",
       "      <td>14.0</td>\n",
       "      <td>17882.35</td>\n",
       "    </tr>\n",
       "    <tr>\n",
       "      <th>2</th>\n",
       "      <td>DCN-1000001</td>\n",
       "      <td>DSKU-P00087842</td>\n",
       "      <td>F</td>\n",
       "      <td>18-25</td>\n",
       "      <td>10</td>\n",
       "      <td>university</td>\n",
       "      <td>2</td>\n",
       "      <td>0</td>\n",
       "      <td>12</td>\n",
       "      <td>0.0</td>\n",
       "      <td>0.0</td>\n",
       "      <td>1672.94</td>\n",
       "    </tr>\n",
       "    <tr>\n",
       "      <th>3</th>\n",
       "      <td>DCN-1000001</td>\n",
       "      <td>DSKU-P00085442</td>\n",
       "      <td>F</td>\n",
       "      <td>18-25</td>\n",
       "      <td>10</td>\n",
       "      <td>university</td>\n",
       "      <td>2</td>\n",
       "      <td>0</td>\n",
       "      <td>12</td>\n",
       "      <td>14.0</td>\n",
       "      <td>0.0</td>\n",
       "      <td>1243.53</td>\n",
       "    </tr>\n",
       "    <tr>\n",
       "      <th>4</th>\n",
       "      <td>DCN-1000002</td>\n",
       "      <td>DSKU-P00285442</td>\n",
       "      <td>M</td>\n",
       "      <td>55+</td>\n",
       "      <td>16</td>\n",
       "      <td>high</td>\n",
       "      <td>4+</td>\n",
       "      <td>0</td>\n",
       "      <td>8</td>\n",
       "      <td>0.0</td>\n",
       "      <td>0.0</td>\n",
       "      <td>9375.29</td>\n",
       "    </tr>\n",
       "  </tbody>\n",
       "</table>\n",
       "</div>"
      ],
      "text/plain": [
       "       user_id         prod_id sex age_cat  credit_status_cd education_cat  \\\n",
       "0  DCN-1000001  DSKU-P00069042   F   18-25                10    university   \n",
       "1  DCN-1000001  DSKU-P00248942   F   18-25                10    university   \n",
       "2  DCN-1000001  DSKU-P00087842   F   18-25                10    university   \n",
       "3  DCN-1000001  DSKU-P00085442   F   18-25                10    university   \n",
       "4  DCN-1000002  DSKU-P00285442   M     55+                16          high   \n",
       "\n",
       "  years_in_residence  car_ownership  prod_cat_1  prod_cat_2  prod_cat_3  \\\n",
       "0                  2              0           3         0.0         0.0   \n",
       "1                  2              0           1         6.0        14.0   \n",
       "2                  2              0          12         0.0         0.0   \n",
       "3                  2              0          12        14.0         0.0   \n",
       "4                 4+              0           8         0.0         0.0   \n",
       "\n",
       "   revenue_usd  \n",
       "0      9847.06  \n",
       "1     17882.35  \n",
       "2      1672.94  \n",
       "3      1243.53  \n",
       "4      9375.29  "
      ]
     },
     "execution_count": 15,
     "metadata": {},
     "output_type": "execute_result"
    }
   ],
   "source": [
    "clean_combined_df.head()"
   ]
  },
  {
   "cell_type": "code",
   "execution_count": 16,
   "id": "4ea4bef7",
   "metadata": {},
   "outputs": [
    {
     "data": {
      "text/html": [
       "<div>\n",
       "<style scoped>\n",
       "    .dataframe tbody tr th:only-of-type {\n",
       "        vertical-align: middle;\n",
       "    }\n",
       "\n",
       "    .dataframe tbody tr th {\n",
       "        vertical-align: top;\n",
       "    }\n",
       "\n",
       "    .dataframe thead th {\n",
       "        text-align: right;\n",
       "    }\n",
       "</style>\n",
       "<table border=\"1\" class=\"dataframe\">\n",
       "  <thead>\n",
       "    <tr style=\"text-align: right;\">\n",
       "      <th></th>\n",
       "      <th>count</th>\n",
       "      <th>mean</th>\n",
       "      <th>std</th>\n",
       "      <th>min</th>\n",
       "      <th>25%</th>\n",
       "      <th>50%</th>\n",
       "      <th>75%</th>\n",
       "      <th>max</th>\n",
       "    </tr>\n",
       "  </thead>\n",
       "  <tbody>\n",
       "    <tr>\n",
       "      <th>credit_status_cd</th>\n",
       "      <td>537577.0</td>\n",
       "      <td>8.082710</td>\n",
       "      <td>6.524120</td>\n",
       "      <td>0.00</td>\n",
       "      <td>2.00</td>\n",
       "      <td>7.00</td>\n",
       "      <td>14.00</td>\n",
       "      <td>20.00</td>\n",
       "    </tr>\n",
       "    <tr>\n",
       "      <th>car_ownership</th>\n",
       "      <td>537577.0</td>\n",
       "      <td>0.408797</td>\n",
       "      <td>0.491612</td>\n",
       "      <td>0.00</td>\n",
       "      <td>0.00</td>\n",
       "      <td>0.00</td>\n",
       "      <td>1.00</td>\n",
       "      <td>1.00</td>\n",
       "    </tr>\n",
       "    <tr>\n",
       "      <th>prod_cat_1</th>\n",
       "      <td>537577.0</td>\n",
       "      <td>5.295546</td>\n",
       "      <td>3.750701</td>\n",
       "      <td>1.00</td>\n",
       "      <td>1.00</td>\n",
       "      <td>5.00</td>\n",
       "      <td>8.00</td>\n",
       "      <td>18.00</td>\n",
       "    </tr>\n",
       "    <tr>\n",
       "      <th>prod_cat_2</th>\n",
       "      <td>537577.0</td>\n",
       "      <td>6.784907</td>\n",
       "      <td>6.211618</td>\n",
       "      <td>0.00</td>\n",
       "      <td>0.00</td>\n",
       "      <td>5.00</td>\n",
       "      <td>14.00</td>\n",
       "      <td>18.00</td>\n",
       "    </tr>\n",
       "    <tr>\n",
       "      <th>prod_cat_3</th>\n",
       "      <td>537577.0</td>\n",
       "      <td>3.871773</td>\n",
       "      <td>6.265963</td>\n",
       "      <td>0.00</td>\n",
       "      <td>0.00</td>\n",
       "      <td>0.00</td>\n",
       "      <td>8.00</td>\n",
       "      <td>18.00</td>\n",
       "    </tr>\n",
       "    <tr>\n",
       "      <th>revenue_usd</th>\n",
       "      <td>537577.0</td>\n",
       "      <td>10981.011587</td>\n",
       "      <td>5860.026037</td>\n",
       "      <td>217.65</td>\n",
       "      <td>6901.18</td>\n",
       "      <td>9484.71</td>\n",
       "      <td>14203.53</td>\n",
       "      <td>28189.41</td>\n",
       "    </tr>\n",
       "  </tbody>\n",
       "</table>\n",
       "</div>"
      ],
      "text/plain": [
       "                     count          mean          std     min      25%  \\\n",
       "credit_status_cd  537577.0      8.082710     6.524120    0.00     2.00   \n",
       "car_ownership     537577.0      0.408797     0.491612    0.00     0.00   \n",
       "prod_cat_1        537577.0      5.295546     3.750701    1.00     1.00   \n",
       "prod_cat_2        537577.0      6.784907     6.211618    0.00     0.00   \n",
       "prod_cat_3        537577.0      3.871773     6.265963    0.00     0.00   \n",
       "revenue_usd       537577.0  10981.011587  5860.026037  217.65  6901.18   \n",
       "\n",
       "                      50%       75%       max  \n",
       "credit_status_cd     7.00     14.00     20.00  \n",
       "car_ownership        0.00      1.00      1.00  \n",
       "prod_cat_1           5.00      8.00     18.00  \n",
       "prod_cat_2           5.00     14.00     18.00  \n",
       "prod_cat_3           0.00      8.00     18.00  \n",
       "revenue_usd       9484.71  14203.53  28189.41  "
      ]
     },
     "execution_count": 16,
     "metadata": {},
     "output_type": "execute_result"
    }
   ],
   "source": [
    "#statistical Summary\n",
    "clean_combined_df.describe().T"
   ]
  },
  {
   "cell_type": "code",
   "execution_count": 17,
   "id": "4a0eb451",
   "metadata": {},
   "outputs": [],
   "source": [
    "#Saving the clean data to a csv file\n",
    "clean_combined_df.to_csv(\"clean_combined_csv.csv\",header=True,index=False,mode=\"w\")"
   ]
  },
  {
   "cell_type": "markdown",
   "id": "92f7d9d5",
   "metadata": {},
   "source": [
    "# #.Exploaratory Data Analysis\n"
   ]
  },
  {
   "cell_type": "code",
   "execution_count": 18,
   "id": "dd26343c",
   "metadata": {},
   "outputs": [
    {
     "data": {
      "text/plain": [
       "Text(0.5, 1.0, 'Revenue Distribution')"
      ]
     },
     "execution_count": 18,
     "metadata": {},
     "output_type": "execute_result"
    },
    {
     "data": {
      "image/png": "[encoded data removed]",
      "text/plain": [
       "<Figure size 864x504 with 1 Axes>"
      ]
     },
     "metadata": {},
     "output_type": "display_data"
    }
   ],
   "source": [
    "#Distribution of the target variable: Revenue_usd\n",
    "plt.style.use('fivethirtyeight')\n",
    "plt.figure(figsize=(12,7))\n",
    "sns.distplot(clean_combined_df.revenue_usd, bins = 25)\n",
    "plt.xlabel(\"Revenue_usd\")\n",
    "plt.ylabel(\"Number of customers\")\n",
    "plt.title(\"Revenue Distribution\")"
   ]
  },
  {
   "cell_type": "raw",
   "id": "296310dc",
   "metadata": {},
   "source": [
    "our target variable has a normal distribution"
   ]
  },
  {
   "cell_type": "code",
   "execution_count": 19,
   "id": "74b6c897",
   "metadata": {},
   "outputs": [
    {
     "data": {
      "text/html": [
       "<div>\n",
       "<style scoped>\n",
       "    .dataframe tbody tr th:only-of-type {\n",
       "        vertical-align: middle;\n",
       "    }\n",
       "\n",
       "    .dataframe tbody tr th {\n",
       "        vertical-align: top;\n",
       "    }\n",
       "\n",
       "    .dataframe thead th {\n",
       "        text-align: right;\n",
       "    }\n",
       "</style>\n",
       "<table border=\"1\" class=\"dataframe\">\n",
       "  <thead>\n",
       "    <tr style=\"text-align: right;\">\n",
       "      <th></th>\n",
       "      <th>prod_id</th>\n",
       "      <th>revenue_usd</th>\n",
       "    </tr>\n",
       "  </thead>\n",
       "  <tbody>\n",
       "    <tr>\n",
       "      <th>0</th>\n",
       "      <td>DSKU-P00000142</td>\n",
       "      <td>14814309.47</td>\n",
       "    </tr>\n",
       "    <tr>\n",
       "      <th>1</th>\n",
       "      <td>DSKU-P00000242</td>\n",
       "      <td>4605765.94</td>\n",
       "    </tr>\n",
       "    <tr>\n",
       "      <th>2</th>\n",
       "      <td>DSKU-P00000342</td>\n",
       "      <td>1483980.04</td>\n",
       "    </tr>\n",
       "    <tr>\n",
       "      <th>3</th>\n",
       "      <td>DSKU-P00000442</td>\n",
       "      <td>519027.05</td>\n",
       "    </tr>\n",
       "    <tr>\n",
       "      <th>4</th>\n",
       "      <td>DSKU-P00000542</td>\n",
       "      <td>930845.87</td>\n",
       "    </tr>\n",
       "    <tr>\n",
       "      <th>...</th>\n",
       "      <td>...</td>\n",
       "      <td>...</td>\n",
       "    </tr>\n",
       "    <tr>\n",
       "      <th>3618</th>\n",
       "      <td>DSKU-P0099442</td>\n",
       "      <td>3309781.17</td>\n",
       "    </tr>\n",
       "    <tr>\n",
       "      <th>3619</th>\n",
       "      <td>DSKU-P0099642</td>\n",
       "      <td>98482.36</td>\n",
       "    </tr>\n",
       "    <tr>\n",
       "      <th>3620</th>\n",
       "      <td>DSKU-P0099742</td>\n",
       "      <td>1137731.77</td>\n",
       "    </tr>\n",
       "    <tr>\n",
       "      <th>3621</th>\n",
       "      <td>DSKU-P0099842</td>\n",
       "      <td>848628.19</td>\n",
       "    </tr>\n",
       "    <tr>\n",
       "      <th>3622</th>\n",
       "      <td>DSKU-P0099942</td>\n",
       "      <td>83344.71</td>\n",
       "    </tr>\n",
       "  </tbody>\n",
       "</table>\n",
       "<p>3623 rows × 2 columns</p>\n",
       "</div>"
      ],
      "text/plain": [
       "             prod_id  revenue_usd\n",
       "0     DSKU-P00000142  14814309.47\n",
       "1     DSKU-P00000242   4605765.94\n",
       "2     DSKU-P00000342   1483980.04\n",
       "3     DSKU-P00000442    519027.05\n",
       "4     DSKU-P00000542    930845.87\n",
       "...              ...          ...\n",
       "3618   DSKU-P0099442   3309781.17\n",
       "3619   DSKU-P0099642     98482.36\n",
       "3620   DSKU-P0099742   1137731.77\n",
       "3621   DSKU-P0099842    848628.19\n",
       "3622   DSKU-P0099942     83344.71\n",
       "\n",
       "[3623 rows x 2 columns]"
      ]
     },
     "execution_count": 19,
     "metadata": {},
     "output_type": "execute_result"
    }
   ],
   "source": [
    "#Productwise grouping\n",
    "prod_df =clean_combined_df.groupby([\"prod_id\"]).sum()[\"revenue_usd\"].reset_index()\n",
    "prod_df"
   ]
  },
  {
   "cell_type": "code",
   "execution_count": 20,
   "id": "2621a4b9",
   "metadata": {},
   "outputs": [],
   "source": [
    "#Sorting the product_id's  based on the revenue generated\n",
    "prod_df = prod_df.sort_values([\"revenue_usd\"], ascending=False)\n",
    "\n",
    "prod_df=prod_df.reset_index(drop=True)"
   ]
  },
  {
   "cell_type": "code",
   "execution_count": 21,
   "id": "42b0d72c",
   "metadata": {},
   "outputs": [
    {
     "data": {
      "text/html": [
       "<div>\n",
       "<style scoped>\n",
       "    .dataframe tbody tr th:only-of-type {\n",
       "        vertical-align: middle;\n",
       "    }\n",
       "\n",
       "    .dataframe tbody tr th {\n",
       "        vertical-align: top;\n",
       "    }\n",
       "\n",
       "    .dataframe thead th {\n",
       "        text-align: right;\n",
       "    }\n",
       "</style>\n",
       "<table border=\"1\" class=\"dataframe\">\n",
       "  <thead>\n",
       "    <tr style=\"text-align: right;\">\n",
       "      <th></th>\n",
       "      <th>prod_id</th>\n",
       "      <th>revenue_usd</th>\n",
       "    </tr>\n",
       "  </thead>\n",
       "  <tbody>\n",
       "    <tr>\n",
       "      <th>0</th>\n",
       "      <td>DSKU-P00025442</td>\n",
       "      <td>32391089.42</td>\n",
       "    </tr>\n",
       "    <tr>\n",
       "      <th>1</th>\n",
       "      <td>DSKU-P00110742</td>\n",
       "      <td>31038316.56</td>\n",
       "    </tr>\n",
       "    <tr>\n",
       "      <th>2</th>\n",
       "      <td>DSKU-P00255842</td>\n",
       "      <td>29002872.92</td>\n",
       "    </tr>\n",
       "    <tr>\n",
       "      <th>3</th>\n",
       "      <td>DSKU-P00184942</td>\n",
       "      <td>28306907.01</td>\n",
       "    </tr>\n",
       "    <tr>\n",
       "      <th>4</th>\n",
       "      <td>DSKU-P00059442</td>\n",
       "      <td>28174469.39</td>\n",
       "    </tr>\n",
       "  </tbody>\n",
       "</table>\n",
       "</div>"
      ],
      "text/plain": [
       "          prod_id  revenue_usd\n",
       "0  DSKU-P00025442  32391089.42\n",
       "1  DSKU-P00110742  31038316.56\n",
       "2  DSKU-P00255842  29002872.92\n",
       "3  DSKU-P00184942  28306907.01\n",
       "4  DSKU-P00059442  28174469.39"
      ]
     },
     "execution_count": 21,
     "metadata": {},
     "output_type": "execute_result"
    }
   ],
   "source": [
    "#Locating Top 5 products \n",
    "prod_df=prod_df.iloc[0:5]\n",
    "prod_df"
   ]
  },
  {
   "cell_type": "code",
   "execution_count": 22,
   "id": "24800e4a",
   "metadata": {},
   "outputs": [
    {
     "data": {
      "image/png": "[encoded data removed]",
      "text/plain": [
       "<Figure size 576x360 with 1 Axes>"
      ]
     },
     "metadata": {},
     "output_type": "display_data"
    }
   ],
   "source": [
    "# Creating a barplot for 'product_id'\n",
    "gen = clean_combined_df[\"prod_id\"].value_counts()\n",
    "gen=gen.iloc[0:5]\n",
    "plt.figure(figsize = (8, 5))\n",
    "plt.style.use('seaborn-whitegrid')\n",
    "sns.barplot(gen.index, gen.values, palette = 'bright')\n",
    "plt.title('Distribution of product', fontdict = {'fontname' : 'Monospace', 'fontsize' : 20, 'fontweight' : 'bold'})\n",
    "plt.xlabel('Product_id', fontdict = {'fontname' : 'Monospace', 'fontsize' : 15,})\n",
    "plt.ylabel('Count', fontdict = {'fontname' : 'Monospace', 'fontsize' : 15})\n",
    "plt.tick_params(labelsize = 10)\n",
    "plt.show()"
   ]
  },
  {
   "cell_type": "code",
   "execution_count": 23,
   "id": "339fca24",
   "metadata": {},
   "outputs": [],
   "source": [
    "#The top 5 sold products are plotted above"
   ]
  },
  {
   "cell_type": "code",
   "execution_count": 24,
   "id": "0f4f8848",
   "metadata": {},
   "outputs": [
    {
     "data": {
      "text/plain": [
       "<matplotlib.legend.Legend at 0x18d40ad0088>"
      ]
     },
     "execution_count": 24,
     "metadata": {},
     "output_type": "execute_result"
    },
    {
     "data": {
      "image/png": "[encoded data removed]",
      "text/plain": [
       "<Figure size 432x288 with 1 Axes>"
      ]
     },
     "metadata": {},
     "output_type": "display_data"
    }
   ],
   "source": [
    "# Create the plot.\n",
    "x_axis=prod_df.prod_id\n",
    "y_axis=prod_df.revenue_usd\n",
    "plt.bar(x_axis, y_axis, color=\"green\", label='Revenue')\n",
    "# Create labels for the x and y axes.\n",
    "plt.xlabel(\"Product_id\")\n",
    "plt.ylabel(\"Revenue_usd\")\n",
    "# Create a title.\n",
    "plt.title(\"Top 5 Revenue generated Products\")\n",
    "# Add the legend.\n",
    "plt.legend()"
   ]
  },
  {
   "cell_type": "raw",
   "id": "73b0a267",
   "metadata": {},
   "source": [
    "Top 5 Revenue generated products are plotted"
   ]
  },
  {
   "cell_type": "code",
   "execution_count": 25,
   "id": "4447e318",
   "metadata": {},
   "outputs": [
    {
     "data": {
      "image/png": "[encoded data removed]",
      "text/plain": [
       "<Figure size 864x432 with 1 Axes>"
      ]
     },
     "metadata": {},
     "output_type": "display_data"
    }
   ],
   "source": [
    "# Creating a barplot for 'user_id'\n",
    "gen = clean_combined_df[\"user_id\"].value_counts()\n",
    "gen=gen.iloc[0:10]\n",
    "plt.figure(figsize = (12, 6))\n",
    "plt.style.use('seaborn-whitegrid')\n",
    "sns.barplot(gen.index, gen.values, palette = 'bright')\n",
    "plt.title('Top 10 customers', fontdict = {'fontname' : 'Monospace', 'fontsize' : 20, 'fontweight' : 'bold'})\n",
    "plt.xlabel('User-id', fontdict = {'fontname' : 'Monospace', 'fontsize' : 15,})\n",
    "plt.ylabel('Count', fontdict = {'fontname' : 'Monospace', 'fontsize' : 15})\n",
    "plt.tick_params(labelsize = 10)\n",
    "plt.show()"
   ]
  },
  {
   "cell_type": "code",
   "execution_count": 26,
   "id": "d201364e",
   "metadata": {},
   "outputs": [
    {
     "data": {
      "text/html": [
       "<div>\n",
       "<style scoped>\n",
       "    .dataframe tbody tr th:only-of-type {\n",
       "        vertical-align: middle;\n",
       "    }\n",
       "\n",
       "    .dataframe tbody tr th {\n",
       "        vertical-align: top;\n",
       "    }\n",
       "\n",
       "    .dataframe thead th {\n",
       "        text-align: right;\n",
       "    }\n",
       "</style>\n",
       "<table border=\"1\" class=\"dataframe\">\n",
       "  <thead>\n",
       "    <tr style=\"text-align: right;\">\n",
       "      <th></th>\n",
       "      <th>revenue_usd</th>\n",
       "    </tr>\n",
       "    <tr>\n",
       "      <th>education_cat</th>\n",
       "      <th></th>\n",
       "    </tr>\n",
       "  </thead>\n",
       "  <tbody>\n",
       "    <tr>\n",
       "      <th>high</th>\n",
       "      <td>11581.696298</td>\n",
       "    </tr>\n",
       "    <tr>\n",
       "      <th>under-high</th>\n",
       "      <td>10821.950408</td>\n",
       "    </tr>\n",
       "    <tr>\n",
       "      <th>university</th>\n",
       "      <td>10538.836476</td>\n",
       "    </tr>\n",
       "  </tbody>\n",
       "</table>\n",
       "</div>"
      ],
      "text/plain": [
       "                revenue_usd\n",
       "education_cat              \n",
       "high           11581.696298\n",
       "under-high     10821.950408\n",
       "university     10538.836476"
      ]
     },
     "execution_count": 26,
     "metadata": {},
     "output_type": "execute_result"
    }
   ],
   "source": [
    "education_pivot = clean_combined_df.pivot_table(index='education_cat', values=\"revenue_usd\", aggfunc=np.mean)\n",
    "education_pivot"
   ]
  },
  {
   "cell_type": "code",
   "execution_count": 27,
   "id": "1b1acfbb",
   "metadata": {},
   "outputs": [
    {
     "data": {
      "image/png": "[encoded data removed]",
      "text/plain": [
       "<Figure size 576x432 with 1 Axes>"
      ]
     },
     "metadata": {},
     "output_type": "display_data"
    }
   ],
   "source": [
    "# Creating a barplot for 'Gender'\n",
    "gen = clean_combined_df[\"sex\"].value_counts()\n",
    "plt.figure(figsize = (8, 6))\n",
    "plt.style.use('seaborn-whitegrid')\n",
    "sns.barplot(gen.index, gen.values, palette = 'bright')\n",
    "plt.title('Distribution of Gender', fontdict = {'fontname' : 'Monospace', 'fontsize' : 20, 'fontweight' : 'bold'})\n",
    "plt.xlabel('Gender', fontdict = {'fontname' : 'Monospace', 'fontsize' : 15,})\n",
    "plt.ylabel('Number of customers', fontdict = {'fontname' : 'Monospace', 'fontsize' : 15})\n",
    "plt.tick_params(labelsize = 10)\n",
    "plt.show()"
   ]
  },
  {
   "cell_type": "raw",
   "id": "f12101b3",
   "metadata": {},
   "source": [
    "Number of male customers are more compared to female customers."
   ]
  },
  {
   "cell_type": "code",
   "execution_count": 28,
   "id": "569f2e42",
   "metadata": {},
   "outputs": [
    {
     "data": {
      "image/png": "[encoded data removed]",
      "text/plain": [
       "<Figure size 720x576 with 1 Axes>"
      ]
     },
     "metadata": {},
     "output_type": "display_data"
    }
   ],
   "source": [
    "# Creating a pie cart for age catagories\n",
    "age = clean_combined_df[\"age_cat\"].value_counts()\n",
    "\n",
    "plt.figure(figsize = (10, 8))\n",
    "plt.style.use('seaborn-whitegrid')\n",
    "sns.barplot(age.index, age.values, palette = 'bright')\n",
    "plt.title('Distribution of Age Catagories', fontdict = {'fontname' : 'Monospace', 'fontsize' : 20, 'fontweight' : 'bold'})\n",
    "plt.xlabel('Age_Calagories', fontdict = {'fontname' : 'Monospace', 'fontsize' : 15,})\n",
    "plt.ylabel('Count', fontdict = {'fontname' : 'Monospace', 'fontsize' : 15})\n",
    "plt.tick_params(labelsize = 10)\n",
    "plt.show()"
   ]
  },
  {
   "cell_type": "raw",
   "id": "4db5bf69",
   "metadata": {},
   "source": [
    "most purchases are made by people between 26 to 35 years old."
   ]
  },
  {
   "cell_type": "code",
   "execution_count": 29,
   "id": "931f5e63",
   "metadata": {},
   "outputs": [],
   "source": [
    "#Alternate method for the above bar chart\n",
    "#sns.countplot(clean_combined_df[\"age_cat\"])"
   ]
  },
  {
   "cell_type": "code",
   "execution_count": 30,
   "id": "972542aa",
   "metadata": {},
   "outputs": [
    {
     "data": {
      "image/png": "[encoded data removed]",
      "text/plain": [
       "<Figure size 1152x576 with 1 Axes>"
      ]
     },
     "metadata": {},
     "output_type": "display_data"
    }
   ],
   "source": [
    "# Creating a bar chart for 'credit status'\n",
    "\n",
    "plt.figure(figsize=(16,8))\n",
    "\n",
    "pd.value_counts(clean_combined_df['credit_status_cd']).plot.bar();\n",
    "plt.xlabel('Credit_Status');\n",
    "plt.ylabel('Count');\n",
    "plt.title('Distribution of different credit status code')\n",
    "\n",
    "plt.show()\n"
   ]
  },
  {
   "cell_type": "raw",
   "id": "4283b782",
   "metadata": {},
   "source": [
    "Looks like Maximum number of customers are with the credit score code 4."
   ]
  },
  {
   "cell_type": "code",
   "execution_count": 31,
   "id": "0e9b6825",
   "metadata": {},
   "outputs": [
    {
     "data": {
      "image/png": "[encoded data removed]",
      "text/plain": [
       "<Figure size 720x504 with 1 Axes>"
      ]
     },
     "metadata": {},
     "output_type": "display_data"
    }
   ],
   "source": [
    "# Creating a pie chart for 'Education category'\n",
    "education = clean_combined_df['education_cat'].value_counts()\n",
    "\n",
    "plt.style.use('seaborn')\n",
    "plt.figure(figsize = (10, 7))\n",
    "plt.pie(education.values, labels = education.index, startangle = 30, explode = (0.20 , 0, 0), shadow = True, autopct = '%1.1f%%')\n",
    "plt.title('Distribution based on Education', fontdict = {'fontname' : 'Monospace', 'fontsize' : 30, 'fontweight' : 'bold'})\n",
    "plt.legend()\n",
    "plt.legend(prop = {'size' : 20})\n",
    "plt.axis('equal')\n",
    "plt.show()"
   ]
  },
  {
   "cell_type": "raw",
   "id": "54ae2629",
   "metadata": {},
   "source": [
    "Most purchases are done by \"Under-high\" education_category people"
   ]
  },
  {
   "cell_type": "code",
   "execution_count": 32,
   "id": "c965fd3d",
   "metadata": {},
   "outputs": [
    {
     "data": {
      "image/png": "[encoded data removed]",
      "text/plain": [
       "<Figure size 720x576 with 1 Axes>"
      ]
     },
     "metadata": {},
     "output_type": "display_data"
    }
   ],
   "source": [
    "# Creating a barchart for 'years_in_residence'\n",
    "years = clean_combined_df['years_in_residence'].value_counts()\n",
    "\n",
    "plt.figure(figsize = (10, 8))\n",
    "plt.style.use('seaborn-whitegrid')\n",
    "sns.barplot(years.index, years.values, palette = 'bright')\n",
    "plt.title('Distribution based on years_in_residence', fontdict = {'fontname' : 'Monospace', 'fontsize' : 20, 'fontweight' : 'bold'})\n",
    "plt.xlabel('years_in_residence', fontdict = {'fontname' : 'Monospace', 'fontsize' : 15,})\n",
    "plt.ylabel('Count', fontdict = {'fontname' : 'Monospace', 'fontsize' : 15})\n",
    "plt.tick_params(labelsize = 10)\n",
    "plt.show()"
   ]
  },
  {
   "cell_type": "raw",
   "id": "b3f8438a",
   "metadata": {},
   "source": [
    "The tendency looks like the people living in their residence for one year tend to buy more products and people who are living in residence for more than 4 years buy less products"
   ]
  },
  {
   "cell_type": "code",
   "execution_count": 33,
   "id": "3eda0cc4",
   "metadata": {},
   "outputs": [
    {
     "data": {
      "image/png": "[encoded data removed]",
      "text/plain": [
       "<Figure size 504x360 with 1 Axes>"
      ]
     },
     "metadata": {},
     "output_type": "display_data"
    }
   ],
   "source": [
    "# Creating a plot for car_owner status\n",
    "owner = clean_combined_df['car_ownership']\n",
    "\n",
    "plt.style.use('seaborn')\n",
    "\n",
    "plt.figure(figsize = (7, 5))\n",
    "sns.countplot(owner)\n",
    "plt.title('Customer distribution based on Car-Ownership', fontdict = {'fontname' : 'Monospace', 'fontsize' : 20, 'fontweight' : 'bold'})\n",
    "plt.xlabel('Car_Owner', fontdict = {'fontname' : 'Monospace', 'fontsize' : 15})\n",
    "plt.ylabel('Count', fontdict = {'fontname' : 'Monospace', 'fontsize' : 15})\n",
    "plt.tick_params(labelsize = 10)\n",
    "plt.show()"
   ]
  },
  {
   "cell_type": "code",
   "execution_count": 34,
   "id": "fc76d8be",
   "metadata": {},
   "outputs": [
    {
     "data": {
      "text/html": [
       "<div>\n",
       "<style scoped>\n",
       "    .dataframe tbody tr th:only-of-type {\n",
       "        vertical-align: middle;\n",
       "    }\n",
       "\n",
       "    .dataframe tbody tr th {\n",
       "        vertical-align: top;\n",
       "    }\n",
       "\n",
       "    .dataframe thead th {\n",
       "        text-align: right;\n",
       "    }\n",
       "</style>\n",
       "<table border=\"1\" class=\"dataframe\">\n",
       "  <thead>\n",
       "    <tr style=\"text-align: right;\">\n",
       "      <th></th>\n",
       "      <th>revenue_usd</th>\n",
       "    </tr>\n",
       "    <tr>\n",
       "      <th>sex</th>\n",
       "      <th></th>\n",
       "    </tr>\n",
       "  </thead>\n",
       "  <tbody>\n",
       "    <tr>\n",
       "      <th>F</th>\n",
       "      <td>10364.425129</td>\n",
       "    </tr>\n",
       "    <tr>\n",
       "      <th>M</th>\n",
       "      <td>11182.084359</td>\n",
       "    </tr>\n",
       "  </tbody>\n",
       "</table>\n",
       "</div>"
      ],
      "text/plain": [
       "      revenue_usd\n",
       "sex              \n",
       "F    10364.425129\n",
       "M    11182.084359"
      ]
     },
     "execution_count": 34,
     "metadata": {},
     "output_type": "execute_result"
    }
   ],
   "source": [
    "#To see the average revenue generated based on Gender\n",
    "gender_pivot = clean_combined_df.pivot_table(index='sex', values=\"revenue_usd\", aggfunc=np.mean)\n",
    "gender_pivot"
   ]
  },
  {
   "cell_type": "code",
   "execution_count": 35,
   "id": "e043c00d",
   "metadata": {},
   "outputs": [
    {
     "data": {
      "image/png": "[encoded data removed]",
      "text/plain": [
       "<Figure size 576x360 with 1 Axes>"
      ]
     },
     "metadata": {},
     "output_type": "display_data"
    }
   ],
   "source": [
    "#Creating a bar chart on Revenue generated based on Gender\n",
    "gender_pivot.plot(kind='bar', color='orange',figsize=(8,5))\n",
    "plt.xlabel(\"Gender\")\n",
    "plt.ylabel(\"Revenue\")\n",
    "plt.title(\"Gender and Average Revenue Analysis \")\n",
    "plt.xticks(rotation=0)\n",
    "plt.show()"
   ]
  },
  {
   "cell_type": "raw",
   "id": "9b4570be",
   "metadata": {},
   "source": [
    "Male customers tend to generate more revenue"
   ]
  },
  {
   "cell_type": "code",
   "execution_count": 36,
   "id": "a44655d0",
   "metadata": {},
   "outputs": [
    {
     "data": {
      "text/html": [
       "<div>\n",
       "<style scoped>\n",
       "    .dataframe tbody tr th:only-of-type {\n",
       "        vertical-align: middle;\n",
       "    }\n",
       "\n",
       "    .dataframe tbody tr th {\n",
       "        vertical-align: top;\n",
       "    }\n",
       "\n",
       "    .dataframe thead th {\n",
       "        text-align: right;\n",
       "    }\n",
       "</style>\n",
       "<table border=\"1\" class=\"dataframe\">\n",
       "  <thead>\n",
       "    <tr style=\"text-align: right;\">\n",
       "      <th></th>\n",
       "      <th>revenue_usd</th>\n",
       "    </tr>\n",
       "    <tr>\n",
       "      <th>age_cat</th>\n",
       "      <th></th>\n",
       "    </tr>\n",
       "  </thead>\n",
       "  <tbody>\n",
       "    <tr>\n",
       "      <th>0-17</th>\n",
       "      <td>1.476588e+08</td>\n",
       "    </tr>\n",
       "    <tr>\n",
       "      <th>18-25</th>\n",
       "      <td>1.066048e+09</td>\n",
       "    </tr>\n",
       "    <tr>\n",
       "      <th>26-35</th>\n",
       "      <td>2.352695e+09</td>\n",
       "    </tr>\n",
       "    <tr>\n",
       "      <th>36-45</th>\n",
       "      <td>1.188999e+09</td>\n",
       "    </tr>\n",
       "    <tr>\n",
       "      <th>46-50</th>\n",
       "      <td>4.863744e+08</td>\n",
       "    </tr>\n",
       "    <tr>\n",
       "      <th>51-55</th>\n",
       "      <td>4.257745e+08</td>\n",
       "    </tr>\n",
       "    <tr>\n",
       "      <th>55+</th>\n",
       "      <td>2.355888e+08</td>\n",
       "    </tr>\n",
       "  </tbody>\n",
       "</table>\n",
       "</div>"
      ],
      "text/plain": [
       "          revenue_usd\n",
       "age_cat              \n",
       "0-17     1.476588e+08\n",
       "18-25    1.066048e+09\n",
       "26-35    2.352695e+09\n",
       "36-45    1.188999e+09\n",
       "46-50    4.863744e+08\n",
       "51-55    4.257745e+08\n",
       "55+      2.355888e+08"
      ]
     },
     "execution_count": 36,
     "metadata": {},
     "output_type": "execute_result"
    }
   ],
   "source": [
    "#Average revenue generated based on age catagories\n",
    "age_pivot = clean_combined_df.pivot_table(index='age_cat', values=\"revenue_usd\", aggfunc=np.sum)\n",
    "age_pivot"
   ]
  },
  {
   "cell_type": "code",
   "execution_count": 37,
   "id": "223d5d16",
   "metadata": {},
   "outputs": [
    {
     "data": {
      "image/png": "[encoded data removed]",
      "text/plain": [
       "<Figure size 864x504 with 1 Axes>"
      ]
     },
     "metadata": {},
     "output_type": "display_data"
    }
   ],
   "source": [
    "age_pivot.plot(kind='bar', color='blue',figsize=(12,7))\n",
    "plt.xlabel(\"Age_Catagories\")\n",
    "plt.ylabel(\"Average Revenue\")\n",
    "plt.title(\"Age and Average Revenue Analysis \",fontsize=10)\n",
    "plt.xticks(rotation=0)\n",
    "plt.show()"
   ]
  },
  {
   "cell_type": "raw",
   "id": "fe766b50",
   "metadata": {},
   "source": [
    "Max revenue is generated by the age group 26-35"
   ]
  },
  {
   "cell_type": "code",
   "execution_count": 38,
   "id": "c4e02c7f",
   "metadata": {},
   "outputs": [
    {
     "data": {
      "text/html": [
       "<div>\n",
       "<style scoped>\n",
       "    .dataframe tbody tr th:only-of-type {\n",
       "        vertical-align: middle;\n",
       "    }\n",
       "\n",
       "    .dataframe tbody tr th {\n",
       "        vertical-align: top;\n",
       "    }\n",
       "\n",
       "    .dataframe thead th {\n",
       "        text-align: right;\n",
       "    }\n",
       "</style>\n",
       "<table border=\"1\" class=\"dataframe\">\n",
       "  <thead>\n",
       "    <tr style=\"text-align: right;\">\n",
       "      <th></th>\n",
       "      <th>revenue_usd</th>\n",
       "    </tr>\n",
       "    <tr>\n",
       "      <th>credit_status_cd</th>\n",
       "      <th></th>\n",
       "    </tr>\n",
       "  </thead>\n",
       "  <tbody>\n",
       "    <tr>\n",
       "      <th>0</th>\n",
       "      <td>10808.172621</td>\n",
       "    </tr>\n",
       "    <tr>\n",
       "      <th>1</th>\n",
       "      <td>10609.062455</td>\n",
       "    </tr>\n",
       "    <tr>\n",
       "      <th>2</th>\n",
       "      <td>10618.751742</td>\n",
       "    </tr>\n",
       "    <tr>\n",
       "      <th>3</th>\n",
       "      <td>10868.326176</td>\n",
       "    </tr>\n",
       "    <tr>\n",
       "      <th>4</th>\n",
       "      <td>10916.502055</td>\n",
       "    </tr>\n",
       "    <tr>\n",
       "      <th>5</th>\n",
       "      <td>11045.704647</td>\n",
       "    </tr>\n",
       "    <tr>\n",
       "      <th>6</th>\n",
       "      <td>10983.974856</td>\n",
       "    </tr>\n",
       "    <tr>\n",
       "      <th>7</th>\n",
       "      <td>11179.029723</td>\n",
       "    </tr>\n",
       "    <tr>\n",
       "      <th>8</th>\n",
       "      <td>11266.480525</td>\n",
       "    </tr>\n",
       "    <tr>\n",
       "      <th>9</th>\n",
       "      <td>10252.159958</td>\n",
       "    </tr>\n",
       "    <tr>\n",
       "      <th>10</th>\n",
       "      <td>10650.395744</td>\n",
       "    </tr>\n",
       "    <tr>\n",
       "      <th>11</th>\n",
       "      <td>10940.549649</td>\n",
       "    </tr>\n",
       "    <tr>\n",
       "      <th>12</th>\n",
       "      <td>11627.120541</td>\n",
       "    </tr>\n",
       "    <tr>\n",
       "      <th>13</th>\n",
       "      <td>11087.587501</td>\n",
       "    </tr>\n",
       "    <tr>\n",
       "      <th>14</th>\n",
       "      <td>11257.101685</td>\n",
       "    </tr>\n",
       "    <tr>\n",
       "      <th>15</th>\n",
       "      <td>11607.341088</td>\n",
       "    </tr>\n",
       "    <tr>\n",
       "      <th>16</th>\n",
       "      <td>11126.038962</td>\n",
       "    </tr>\n",
       "    <tr>\n",
       "      <th>17</th>\n",
       "      <td>11654.563526</td>\n",
       "    </tr>\n",
       "    <tr>\n",
       "      <th>18</th>\n",
       "      <td>10863.142837</td>\n",
       "    </tr>\n",
       "    <tr>\n",
       "      <th>19</th>\n",
       "      <td>10299.116607</td>\n",
       "    </tr>\n",
       "    <tr>\n",
       "      <th>20</th>\n",
       "      <td>10448.352368</td>\n",
       "    </tr>\n",
       "  </tbody>\n",
       "</table>\n",
       "</div>"
      ],
      "text/plain": [
       "                   revenue_usd\n",
       "credit_status_cd              \n",
       "0                 10808.172621\n",
       "1                 10609.062455\n",
       "2                 10618.751742\n",
       "3                 10868.326176\n",
       "4                 10916.502055\n",
       "5                 11045.704647\n",
       "6                 10983.974856\n",
       "7                 11179.029723\n",
       "8                 11266.480525\n",
       "9                 10252.159958\n",
       "10                10650.395744\n",
       "11                10940.549649\n",
       "12                11627.120541\n",
       "13                11087.587501\n",
       "14                11257.101685\n",
       "15                11607.341088\n",
       "16                11126.038962\n",
       "17                11654.563526\n",
       "18                10863.142837\n",
       "19                10299.116607\n",
       "20                10448.352368"
      ]
     },
     "execution_count": 38,
     "metadata": {},
     "output_type": "execute_result"
    }
   ],
   "source": [
    "#Average revenue generated based on credit status code\n",
    "credit_pivot = clean_combined_df.pivot_table(index='credit_status_cd', values=\"revenue_usd\", aggfunc=np.mean)\n",
    "credit_pivot"
   ]
  },
  {
   "cell_type": "code",
   "execution_count": 39,
   "id": "fb8ba93c",
   "metadata": {},
   "outputs": [
    {
     "data": {
      "image/png": "[encoded data removed]",
      "text/plain": [
       "<Figure size 864x504 with 1 Axes>"
      ]
     },
     "metadata": {},
     "output_type": "display_data"
    }
   ],
   "source": [
    "credit_pivot.plot(kind='bar', color='green',figsize=(12,7))\n",
    "plt.xlabel(\"credit_status_cd\")\n",
    "plt.ylabel(\"Average Revenue\")\n",
    "plt.title(\"Credit Status and Average Revenue Analysis\",fontsize=10)\n",
    "plt.xticks(rotation=0)\n",
    "plt.show()"
   ]
  },
  {
   "cell_type": "raw",
   "id": "facefabd",
   "metadata": {},
   "source": [
    "Looks like Revenue generated is almost same for all credit status codes."
   ]
  },
  {
   "cell_type": "code",
   "execution_count": 40,
   "id": "17f1900d",
   "metadata": {},
   "outputs": [
    {
     "data": {
      "text/html": [
       "<div>\n",
       "<style scoped>\n",
       "    .dataframe tbody tr th:only-of-type {\n",
       "        vertical-align: middle;\n",
       "    }\n",
       "\n",
       "    .dataframe tbody tr th {\n",
       "        vertical-align: top;\n",
       "    }\n",
       "\n",
       "    .dataframe thead th {\n",
       "        text-align: right;\n",
       "    }\n",
       "</style>\n",
       "<table border=\"1\" class=\"dataframe\">\n",
       "  <thead>\n",
       "    <tr style=\"text-align: right;\">\n",
       "      <th></th>\n",
       "      <th>revenue_usd</th>\n",
       "    </tr>\n",
       "    <tr>\n",
       "      <th>education_cat</th>\n",
       "      <th></th>\n",
       "    </tr>\n",
       "  </thead>\n",
       "  <tbody>\n",
       "    <tr>\n",
       "      <th>high</th>\n",
       "      <td>11581.696298</td>\n",
       "    </tr>\n",
       "    <tr>\n",
       "      <th>under-high</th>\n",
       "      <td>10821.950408</td>\n",
       "    </tr>\n",
       "    <tr>\n",
       "      <th>university</th>\n",
       "      <td>10538.836476</td>\n",
       "    </tr>\n",
       "  </tbody>\n",
       "</table>\n",
       "</div>"
      ],
      "text/plain": [
       "                revenue_usd\n",
       "education_cat              \n",
       "high           11581.696298\n",
       "under-high     10821.950408\n",
       "university     10538.836476"
      ]
     },
     "execution_count": 40,
     "metadata": {},
     "output_type": "execute_result"
    }
   ],
   "source": [
    "#Average revenue generated based on Education Catagory\n",
    "education_pivot = clean_combined_df.pivot_table(index='education_cat', values=\"revenue_usd\", aggfunc=np.mean)\n",
    "education_pivot"
   ]
  },
  {
   "cell_type": "code",
   "execution_count": 41,
   "id": "f9d85922",
   "metadata": {},
   "outputs": [
    {
     "data": {
      "image/png": "[encoded data removed]",
      "text/plain": [
       "<Figure size 720x432 with 1 Axes>"
      ]
     },
     "metadata": {},
     "output_type": "display_data"
    }
   ],
   "source": [
    "education_pivot.plot(kind='bar', color='yellow',figsize=(10,6))\n",
    "plt.xlabel(\"Education_cat\")\n",
    "plt.ylabel(\"Average Revenue\")\n",
    "plt.title(\"Education Catagory and Average Revenue Analysis\")\n",
    "plt.xticks(rotation=0)\n",
    "plt.show()"
   ]
  },
  {
   "cell_type": "raw",
   "id": "be35cf4a",
   "metadata": {},
   "source": [
    "Customers those are in \"High\" Education_category generate more revenue ."
   ]
  },
  {
   "cell_type": "code",
   "execution_count": 42,
   "id": "f999a6b9",
   "metadata": {},
   "outputs": [
    {
     "data": {
      "text/html": [
       "<div>\n",
       "<style scoped>\n",
       "    .dataframe tbody tr th:only-of-type {\n",
       "        vertical-align: middle;\n",
       "    }\n",
       "\n",
       "    .dataframe tbody tr th {\n",
       "        vertical-align: top;\n",
       "    }\n",
       "\n",
       "    .dataframe thead th {\n",
       "        text-align: right;\n",
       "    }\n",
       "</style>\n",
       "<table border=\"1\" class=\"dataframe\">\n",
       "  <thead>\n",
       "    <tr style=\"text-align: right;\">\n",
       "      <th></th>\n",
       "      <th>revenue_usd</th>\n",
       "    </tr>\n",
       "    <tr>\n",
       "      <th>years_in_residence</th>\n",
       "      <th></th>\n",
       "    </tr>\n",
       "  </thead>\n",
       "  <tbody>\n",
       "    <tr>\n",
       "      <th>0</th>\n",
       "      <td>10879.104267</td>\n",
       "    </tr>\n",
       "    <tr>\n",
       "      <th>1</th>\n",
       "      <td>10964.547161</td>\n",
       "    </tr>\n",
       "    <tr>\n",
       "      <th>2</th>\n",
       "      <td>11056.008616</td>\n",
       "    </tr>\n",
       "    <tr>\n",
       "      <th>3</th>\n",
       "      <td>11000.806014</td>\n",
       "    </tr>\n",
       "    <tr>\n",
       "      <th>4+</th>\n",
       "      <td>10995.729590</td>\n",
       "    </tr>\n",
       "  </tbody>\n",
       "</table>\n",
       "</div>"
      ],
      "text/plain": [
       "                     revenue_usd\n",
       "years_in_residence              \n",
       "0                   10879.104267\n",
       "1                   10964.547161\n",
       "2                   11056.008616\n",
       "3                   11000.806014\n",
       "4+                  10995.729590"
      ]
     },
     "execution_count": 42,
     "metadata": {},
     "output_type": "execute_result"
    }
   ],
   "source": [
    "#Average revenue generated based on Years in Residence\n",
    "years_pivot = clean_combined_df.pivot_table(index='years_in_residence', values=\"revenue_usd\", aggfunc=np.mean)\n",
    "years_pivot"
   ]
  },
  {
   "cell_type": "code",
   "execution_count": 43,
   "id": "741ea4e1",
   "metadata": {
    "scrolled": false
   },
   "outputs": [
    {
     "data": {
      "image/png": "[encoded data removed]",
      "text/plain": [
       "<Figure size 864x504 with 1 Axes>"
      ]
     },
     "metadata": {},
     "output_type": "display_data"
    }
   ],
   "source": [
    "years_pivot.plot(kind='bar', color='violet',figsize=(12,7))\n",
    "plt.xlabel(\"Years_in_Residence\")\n",
    "plt.ylabel(\"Average Revenue\")\n",
    "plt.title(\"Years_in_residence and Average Revenue Analysis\")\n",
    "plt.xticks(rotation=0)\n",
    "plt.show()"
   ]
  },
  {
   "cell_type": "raw",
   "id": "65becfae",
   "metadata": {},
   "source": [
    "Looks like, irrespective on the years_of_residence, people tend to spend the same amount on purchases.\n"
   ]
  },
  {
   "cell_type": "code",
   "execution_count": 44,
   "id": "f667bfcb",
   "metadata": {},
   "outputs": [
    {
     "data": {
      "text/html": [
       "<div>\n",
       "<style scoped>\n",
       "    .dataframe tbody tr th:only-of-type {\n",
       "        vertical-align: middle;\n",
       "    }\n",
       "\n",
       "    .dataframe tbody tr th {\n",
       "        vertical-align: top;\n",
       "    }\n",
       "\n",
       "    .dataframe thead th {\n",
       "        text-align: right;\n",
       "    }\n",
       "</style>\n",
       "<table border=\"1\" class=\"dataframe\">\n",
       "  <thead>\n",
       "    <tr style=\"text-align: right;\">\n",
       "      <th></th>\n",
       "      <th>revenue_usd</th>\n",
       "    </tr>\n",
       "    <tr>\n",
       "      <th>car_ownership</th>\n",
       "      <th></th>\n",
       "    </tr>\n",
       "  </thead>\n",
       "  <tbody>\n",
       "    <tr>\n",
       "      <th>0</th>\n",
       "      <td>10980.382902</td>\n",
       "    </tr>\n",
       "    <tr>\n",
       "      <th>1</th>\n",
       "      <td>10981.920792</td>\n",
       "    </tr>\n",
       "  </tbody>\n",
       "</table>\n",
       "</div>"
      ],
      "text/plain": [
       "                revenue_usd\n",
       "car_ownership              \n",
       "0              10980.382902\n",
       "1              10981.920792"
      ]
     },
     "execution_count": 44,
     "metadata": {},
     "output_type": "execute_result"
    }
   ],
   "source": [
    "#Average revenue generated based on car_ownership\n",
    "car_pivot = clean_combined_df.pivot_table(index='car_ownership', values=\"revenue_usd\", aggfunc=np.mean)\n",
    "car_pivot"
   ]
  },
  {
   "cell_type": "code",
   "execution_count": 45,
   "id": "49956747",
   "metadata": {},
   "outputs": [
    {
     "data": {
      "image/png": "[encoded data removed]",
      "text/plain": [
       "<Figure size 504x360 with 1 Axes>"
      ]
     },
     "metadata": {},
     "output_type": "display_data"
    }
   ],
   "source": [
    "car_pivot.plot(kind='bar', color='green',figsize=(7,5))\n",
    "plt.xlabel(\"car_ownership\")\n",
    "plt.ylabel(\"Average Revenue\")\n",
    "plt.title(\"Car Ownership and Average Revenue Analysis\",fontsize=10)\n",
    "plt.xticks(rotation=0)\n",
    "plt.show()"
   ]
  },
  {
   "cell_type": "raw",
   "id": "f455bc19",
   "metadata": {},
   "source": [
    "Revenue generated by customers who owns or not owns a car is almost same."
   ]
  },
  {
   "cell_type": "code",
   "execution_count": 46,
   "id": "fe54f673",
   "metadata": {},
   "outputs": [
    {
     "data": {
      "image/png": "[encoded data removed]",
      "text/plain": [
       "<Figure size 2000x900 with 1 Axes>"
      ]
     },
     "metadata": {},
     "output_type": "display_data"
    }
   ],
   "source": [
    "# Creating a barplot of 'Revenue acress Product catagory-1'\n",
    "plt.style.use('default')\n",
    "plt.figure(figsize = (20, 9))\n",
    "sns.barplot(clean_combined_df['prod_cat_1'], clean_combined_df['revenue_usd'], palette = 'colorblind')\n",
    "plt.title('Revenue across Product Category-1', fontdict = {'fontname' : 'Monospace', 'fontsize' : 20, 'fontweight' : 'bold'})\n",
    "plt.xlabel('Product Category-1', fontdict = {'fontname' : 'Monospace', 'fontsize' : 15})\n",
    "plt.ylabel('Revenue', fontdict = {'fontname' : 'Monospace', 'fontsize' : 15})\n",
    "plt.tick_params(labelsize = 20)\n",
    "plt.grid()\n",
    "plt.show()"
   ]
  },
  {
   "cell_type": "raw",
   "id": "fc848a37",
   "metadata": {},
   "source": [
    "Product category value \"10\" generates more revenue compared to others.Product category value \"13\" generate the least revenue."
   ]
  },
  {
   "cell_type": "code",
   "execution_count": 49,
   "id": "14429706",
   "metadata": {},
   "outputs": [
    {
     "data": {
      "application/vnd.plotly.v1+json": {
       "config": {
        "plotlyServerURL": "https://plot.ly"
       },
       "data": [
        {
         "alignmentgroup": "True",
         "hovertemplate": "prod_id=%{x}<br>revenue_usd=%{y}<extra></extra>",
         "legendgroup": "DSKU-P00025442",
         "marker": {
          "color": "#636efa",
          "pattern": {
           "shape": ""
          }
         },
         "name": "DSKU-P00025442",
         "offsetgroup": "DSKU-P00025442",
         "orientation": "v",
         "showlegend": true,
         "textposition": "auto",
         "type": "bar",
         "x": [
          "DSKU-P00025442"
         ],
         "xaxis": "x",
         "y": [
          32391089.419999976
         ],
         "yaxis": "y"
        },
        {
         "alignmentgroup": "True",
         "hovertemplate": "prod_id=%{x}<br>revenue_usd=%{y}<extra></extra>",
         "legendgroup": "DSKU-P00110742",
         "marker": {
          "color": "#EF553B",
          "pattern": {
           "shape": ""
          }
         },
         "name": "DSKU-P00110742",
         "offsetgroup": "DSKU-P00110742",
         "orientation": "v",
         "showlegend": true,
         "textposition": "auto",
         "type": "bar",
         "x": [
          "DSKU-P00110742"
         ],
         "xaxis": "x",
         "y": [
          31038316.559999976
         ],
         "yaxis": "y"
        },
        {
         "alignmentgroup": "True",
         "hovertemplate": "prod_id=%{x}<br>revenue_usd=%{y}<extra></extra>",
         "legendgroup": "DSKU-P00255842",
         "marker": {
          "color": "#00cc96",
          "pattern": {
           "shape": ""
          }
         },
         "name": "DSKU-P00255842",
         "offsetgroup": "DSKU-P00255842",
         "orientation": "v",
         "showlegend": true,
         "textposition": "auto",
         "type": "bar",
         "x": [
          "DSKU-P00255842"
         ],
         "xaxis": "x",
         "y": [
          29002872.919999987
         ],
         "yaxis": "y"
        },
        {
         "alignmentgroup": "True",
         "hovertemplate": "prod_id=%{x}<br>revenue_usd=%{y}<extra></extra>",
         "legendgroup": "DSKU-P00184942",
         "marker": {
          "color": "#ab63fa",
          "pattern": {
           "shape": ""
          }
         },
         "name": "DSKU-P00184942",
         "offsetgroup": "DSKU-P00184942",
         "orientation": "v",
         "showlegend": true,
         "textposition": "auto",
         "type": "bar",
         "x": [
          "DSKU-P00184942"
         ],
         "xaxis": "x",
         "y": [
          28306907.010000028
         ],
         "yaxis": "y"
        },
        {
         "alignmentgroup": "True",
         "hovertemplate": "prod_id=%{x}<br>revenue_usd=%{y}<extra></extra>",
         "legendgroup": "DSKU-P00059442",
         "marker": {
          "color": "#FFA15A",
          "pattern": {
           "shape": ""
          }
         },
         "name": "DSKU-P00059442",
         "offsetgroup": "DSKU-P00059442",
         "orientation": "v",
         "showlegend": true,
         "textposition": "auto",
         "type": "bar",
         "x": [
          "DSKU-P00059442"
         ],
         "xaxis": "x",
         "y": [
          28174469.389999997
         ],
         "yaxis": "y"
        }
       ],
       "layout": {
        "barmode": "relative",
        "legend": {
         "title": {
          "text": "prod_id"
         },
         "tracegroupgap": 0
        },
        "template": {
         "data": {
          "bar": [
           {
            "error_x": {
             "color": "#2a3f5f"
            },
            "error_y": {
             "color": "#2a3f5f"
            },
            "marker": {
             "line": {
              "color": "#E5ECF6",
              "width": 0.5
             },
             "pattern": {
              "fillmode": "overlay",
              "size": 10,
              "solidity": 0.2
             }
            },
            "type": "bar"
           }
          ],
          "barpolar": [
           {
            "marker": {
             "line": {
              "color": "#E5ECF6",
              "width": 0.5
             },
             "pattern": {
              "fillmode": "overlay",
              "size": 10,
              "solidity": 0.2
             }
            },
            "type": "barpolar"
           }
          ],
          "carpet": [
           {
            "aaxis": {
             "endlinecolor": "#2a3f5f",
             "gridcolor": "white",
             "linecolor": "white",
             "minorgridcolor": "white",
             "startlinecolor": "#2a3f5f"
            },
            "baxis": {
             "endlinecolor": "#2a3f5f",
             "gridcolor": "white",
             "linecolor": "white",
             "minorgridcolor": "white",
             "startlinecolor": "#2a3f5f"
            },
            "type": "carpet"
           }
          ],
          "choropleth": [
           {
            "colorbar": {
             "outlinewidth": 0,
             "ticks": ""
            },
            "type": "choropleth"
           }
          ],
          "contour": [
           {
            "colorbar": {
             "outlinewidth": 0,
             "ticks": ""
            },
            "colorscale": [
             [
              0,
              "#0d0887"
             ],
             [
              0.1111111111111111,
              "#46039f"
             ],
             [
              0.2222222222222222,
              "#7201a8"
             ],
             [
              0.3333333333333333,
              "#9c179e"
             ],
             [
              0.4444444444444444,
              "#bd3786"
             ],
             [
              0.5555555555555556,
              "#d8576b"
             ],
             [
              0.6666666666666666,
              "#ed7953"
             ],
             [
              0.7777777777777778,
              "#fb9f3a"
             ],
             [
              0.8888888888888888,
              "#fdca26"
             ],
             [
              1,
              "#f0f921"
             ]
            ],
            "type": "contour"
           }
          ],
          "contourcarpet": [
           {
            "colorbar": {
             "outlinewidth": 0,
             "ticks": ""
            },
            "type": "contourcarpet"
           }
          ],
          "heatmap": [
           {
            "colorbar": {
             "outlinewidth": 0,
             "ticks": ""
            },
            "colorscale": [
             [
              0,
              "#0d0887"
             ],
             [
              0.1111111111111111,
              "#46039f"
             ],
             [
              0.2222222222222222,
              "#7201a8"
             ],
             [
              0.3333333333333333,
              "#9c179e"
             ],
             [
              0.4444444444444444,
              "#bd3786"
             ],
             [
              0.5555555555555556,
              "#d8576b"
             ],
             [
              0.6666666666666666,
              "#ed7953"
             ],
             [
              0.7777777777777778,
              "#fb9f3a"
             ],
             [
              0.8888888888888888,
              "#fdca26"
             ],
             [
              1,
              "#f0f921"
             ]
            ],
            "type": "heatmap"
           }
          ],
          "heatmapgl": [
           {
            "colorbar": {
             "outlinewidth": 0,
             "ticks": ""
            },
            "colorscale": [
             [
              0,
              "#0d0887"
             ],
             [
              0.1111111111111111,
              "#46039f"
             ],
             [
              0.2222222222222222,
              "#7201a8"
             ],
             [
              0.3333333333333333,
              "#9c179e"
             ],
             [
              0.4444444444444444,
              "#bd3786"
             ],
             [
              0.5555555555555556,
              "#d8576b"
             ],
             [
              0.6666666666666666,
              "#ed7953"
             ],
             [
              0.7777777777777778,
              "#fb9f3a"
             ],
             [
              0.8888888888888888,
              "#fdca26"
             ],
             [
              1,
              "#f0f921"
             ]
            ],
            "type": "heatmapgl"
           }
          ],
          "histogram": [
           {
            "marker": {
             "pattern": {
              "fillmode": "overlay",
              "size": 10,
              "solidity": 0.2
             }
            },
            "type": "histogram"
           }
          ],
          "histogram2d": [
           {
            "colorbar": {
             "outlinewidth": 0,
             "ticks": ""
            },
            "colorscale": [
             [
              0,
              "#0d0887"
             ],
             [
              0.1111111111111111,
              "#46039f"
             ],
             [
              0.2222222222222222,
              "#7201a8"
             ],
             [
              0.3333333333333333,
              "#9c179e"
             ],
             [
              0.4444444444444444,
              "#bd3786"
             ],
             [
              0.5555555555555556,
              "#d8576b"
             ],
             [
              0.6666666666666666,
              "#ed7953"
             ],
             [
              0.7777777777777778,
              "#fb9f3a"
             ],
             [
              0.8888888888888888,
              "#fdca26"
             ],
             [
              1,
              "#f0f921"
             ]
            ],
            "type": "histogram2d"
           }
          ],
          "histogram2dcontour": [
           {
            "colorbar": {
             "outlinewidth": 0,
             "ticks": ""
            },
            "colorscale": [
             [
              0,
              "#0d0887"
             ],
             [
              0.1111111111111111,
              "#46039f"
             ],
             [
              0.2222222222222222,
              "#7201a8"
             ],
             [
              0.3333333333333333,
              "#9c179e"
             ],
             [
              0.4444444444444444,
              "#bd3786"
             ],
             [
              0.5555555555555556,
              "#d8576b"
             ],
             [
              0.6666666666666666,
              "#ed7953"
             ],
             [
              0.7777777777777778,
              "#fb9f3a"
             ],
             [
              0.8888888888888888,
              "#fdca26"
             ],
             [
              1,
              "#f0f921"
             ]
            ],
            "type": "histogram2dcontour"
           }
          ],
          "mesh3d": [
           {
            "colorbar": {
             "outlinewidth": 0,
             "ticks": ""
            },
            "type": "mesh3d"
           }
          ],
          "parcoords": [
           {
            "line": {
             "colorbar": {
              "outlinewidth": 0,
              "ticks": ""
             }
            },
            "type": "parcoords"
           }
          ],
          "pie": [
           {
            "automargin": true,
            "type": "pie"
           }
          ],
          "scatter": [
           {
            "marker": {
             "colorbar": {
              "outlinewidth": 0,
              "ticks": ""
             }
            },
            "type": "scatter"
           }
          ],
          "scatter3d": [
           {
            "line": {
             "colorbar": {
              "outlinewidth": 0,
              "ticks": ""
             }
            },
            "marker": {
             "colorbar": {
              "outlinewidth": 0,
              "ticks": ""
             }
            },
            "type": "scatter3d"
           }
          ],
          "scattercarpet": [
           {
            "marker": {
             "colorbar": {
              "outlinewidth": 0,
              "ticks": ""
             }
            },
            "type": "scattercarpet"
           }
          ],
          "scattergeo": [
           {
            "marker": {
             "colorbar": {
              "outlinewidth": 0,
              "ticks": ""
             }
            },
            "type": "scattergeo"
           }
          ],
          "scattergl": [
           {
            "marker": {
             "colorbar": {
              "outlinewidth": 0,
              "ticks": ""
             }
            },
            "type": "scattergl"
           }
          ],
          "scattermapbox": [
           {
            "marker": {
             "colorbar": {
              "outlinewidth": 0,
              "ticks": ""
             }
            },
            "type": "scattermapbox"
           }
          ],
          "scatterpolar": [
           {
            "marker": {
             "colorbar": {
              "outlinewidth": 0,
              "ticks": ""
             }
            },
            "type": "scatterpolar"
           }
          ],
          "scatterpolargl": [
           {
            "marker": {
             "colorbar": {
              "outlinewidth": 0,
              "ticks": ""
             }
            },
            "type": "scatterpolargl"
           }
          ],
          "scatterternary": [
           {
            "marker": {
             "colorbar": {
              "outlinewidth": 0,
              "ticks": ""
             }
            },
            "type": "scatterternary"
           }
          ],
          "surface": [
           {
            "colorbar": {
             "outlinewidth": 0,
             "ticks": ""
            },
            "colorscale": [
             [
              0,
              "#0d0887"
             ],
             [
              0.1111111111111111,
              "#46039f"
             ],
             [
              0.2222222222222222,
              "#7201a8"
             ],
             [
              0.3333333333333333,
              "#9c179e"
             ],
             [
              0.4444444444444444,
              "#bd3786"
             ],
             [
              0.5555555555555556,
              "#d8576b"
             ],
             [
              0.6666666666666666,
              "#ed7953"
             ],
             [
              0.7777777777777778,
              "#fb9f3a"
             ],
             [
              0.8888888888888888,
              "#fdca26"
             ],
             [
              1,
              "#f0f921"
             ]
            ],
            "type": "surface"
           }
          ],
          "table": [
           {
            "cells": {
             "fill": {
              "color": "#EBF0F8"
             },
             "line": {
              "color": "white"
             }
            },
            "header": {
             "fill": {
              "color": "#C8D4E3"
             },
             "line": {
              "color": "white"
             }
            },
            "type": "table"
           }
          ]
         },
         "layout": {
          "annotationdefaults": {
           "arrowcolor": "#2a3f5f",
           "arrowhead": 0,
           "arrowwidth": 1
          },
          "autotypenumbers": "strict",
          "coloraxis": {
           "colorbar": {
            "outlinewidth": 0,
            "ticks": ""
           }
          },
          "colorscale": {
           "diverging": [
            [
             0,
             "#8e0152"
            ],
            [
             0.1,
             "#c51b7d"
            ],
            [
             0.2,
             "#de77ae"
            ],
            [
             0.3,
             "#f1b6da"
            ],
            [
             0.4,
             "#fde0ef"
            ],
            [
             0.5,
             "#f7f7f7"
            ],
            [
             0.6,
             "#e6f5d0"
            ],
            [
             0.7,
             "#b8e186"
            ],
            [
             0.8,
             "#7fbc41"
            ],
            [
             0.9,
             "#4d9221"
            ],
            [
             1,
             "#276419"
            ]
           ],
           "sequential": [
            [
             0,
             "#0d0887"
            ],
            [
             0.1111111111111111,
             "#46039f"
            ],
            [
             0.2222222222222222,
             "#7201a8"
            ],
            [
             0.3333333333333333,
             "#9c179e"
            ],
            [
             0.4444444444444444,
             "#bd3786"
            ],
            [
             0.5555555555555556,
             "#d8576b"
            ],
            [
             0.6666666666666666,
             "#ed7953"
            ],
            [
             0.7777777777777778,
             "#fb9f3a"
            ],
            [
             0.8888888888888888,
             "#fdca26"
            ],
            [
             1,
             "#f0f921"
            ]
           ],
           "sequentialminus": [
            [
             0,
             "#0d0887"
            ],
            [
             0.1111111111111111,
             "#46039f"
            ],
            [
             0.2222222222222222,
             "#7201a8"
            ],
            [
             0.3333333333333333,
             "#9c179e"
            ],
            [
             0.4444444444444444,
             "#bd3786"
            ],
            [
             0.5555555555555556,
             "#d8576b"
            ],
            [
             0.6666666666666666,
             "#ed7953"
            ],
            [
             0.7777777777777778,
             "#fb9f3a"
            ],
            [
             0.8888888888888888,
             "#fdca26"
            ],
            [
             1,
             "#f0f921"
            ]
           ]
          },
          "colorway": [
           "#636efa",
           "#EF553B",
           "#00cc96",
           "#ab63fa",
           "#FFA15A",
           "#19d3f3",
           "#FF6692",
           "#B6E880",
           "#FF97FF",
           "#FECB52"
          ],
          "font": {
           "color": "#2a3f5f"
          },
          "geo": {
           "bgcolor": "white",
           "lakecolor": "white",
           "landcolor": "#E5ECF6",
           "showlakes": true,
           "showland": true,
           "subunitcolor": "white"
          },
          "hoverlabel": {
           "align": "left"
          },
          "hovermode": "closest",
          "mapbox": {
           "style": "light"
          },
          "paper_bgcolor": "white",
          "plot_bgcolor": "#E5ECF6",
          "polar": {
           "angularaxis": {
            "gridcolor": "white",
            "linecolor": "white",
            "ticks": ""
           },
           "bgcolor": "#E5ECF6",
           "radialaxis": {
            "gridcolor": "white",
            "linecolor": "white",
            "ticks": ""
           }
          },
          "scene": {
           "xaxis": {
            "backgroundcolor": "#E5ECF6",
            "gridcolor": "white",
            "gridwidth": 2,
            "linecolor": "white",
            "showbackground": true,
            "ticks": "",
            "zerolinecolor": "white"
           },
           "yaxis": {
            "backgroundcolor": "#E5ECF6",
            "gridcolor": "white",
            "gridwidth": 2,
            "linecolor": "white",
            "showbackground": true,
            "ticks": "",
            "zerolinecolor": "white"
           },
           "zaxis": {
            "backgroundcolor": "#E5ECF6",
            "gridcolor": "white",
            "gridwidth": 2,
            "linecolor": "white",
            "showbackground": true,
            "ticks": "",
            "zerolinecolor": "white"
           }
          },
          "shapedefaults": {
           "line": {
            "color": "#2a3f5f"
           }
          },
          "ternary": {
           "aaxis": {
            "gridcolor": "white",
            "linecolor": "white",
            "ticks": ""
           },
           "baxis": {
            "gridcolor": "white",
            "linecolor": "white",
            "ticks": ""
           },
           "bgcolor": "#E5ECF6",
           "caxis": {
            "gridcolor": "white",
            "linecolor": "white",
            "ticks": ""
           }
          },
          "title": {
           "x": 0.05
          },
          "xaxis": {
           "automargin": true,
           "gridcolor": "white",
           "linecolor": "white",
           "ticks": "",
           "title": {
            "standoff": 15
           },
           "zerolinecolor": "white",
           "zerolinewidth": 2
          },
          "yaxis": {
           "automargin": true,
           "gridcolor": "white",
           "linecolor": "white",
           "ticks": "",
           "title": {
            "standoff": 15
           },
           "zerolinecolor": "white",
           "zerolinewidth": 2
          }
         }
        },
        "title": {
         "text": "Top 5 Revenue generated Products"
        },
        "xaxis": {
         "anchor": "y",
         "categoryarray": [
          "DSKU-P00025442",
          "DSKU-P00110742",
          "DSKU-P00255842",
          "DSKU-P00184942",
          "DSKU-P00059442"
         ],
         "categoryorder": "array",
         "domain": [
          0,
          1
         ],
         "title": {
          "text": "prod_id"
         }
        },
        "yaxis": {
         "anchor": "x",
         "domain": [
          0,
          1
         ],
         "title": {
          "text": "revenue_usd"
         }
        }
       }
      },
      "text/html": [
       "<div>                            <div id=\"51a1faee-5291-4c82-8a63-d0f6467109b0\" class=\"plotly-graph-div\" style=\"height:525px; width:100%;\"></div>            <script type=\"text/javascript\">                require([\"plotly\"], function(Plotly) {                    window.PLOTLYENV=window.PLOTLYENV || {};                                    if (document.getElementById(\"51a1faee-5291-4c82-8a63-d0f6467109b0\")) {                    Plotly.newPlot(                        \"51a1faee-5291-4c82-8a63-d0f6467109b0\",                        [{\"alignmentgroup\":\"True\",\"hovertemplate\":\"prod_id=%{x}<br>revenue_usd=%{y}<extra></extra>\",\"legendgroup\":\"DSKU-P00025442\",\"marker\":{\"color\":\"#636efa\",\"pattern\":{\"shape\":\"\"}},\"name\":\"DSKU-P00025442\",\"offsetgroup\":\"DSKU-P00025442\",\"orientation\":\"v\",\"showlegend\":true,\"textposition\":\"auto\",\"x\":[\"DSKU-P00025442\"],\"xaxis\":\"x\",\"y\":[32391089.419999976],\"yaxis\":\"y\",\"type\":\"bar\"},{\"alignmentgroup\":\"True\",\"hovertemplate\":\"prod_id=%{x}<br>revenue_usd=%{y}<extra></extra>\",\"legendgroup\":\"DSKU-P00110742\",\"marker\":{\"color\":\"#EF553B\",\"pattern\":{\"shape\":\"\"}},\"name\":\"DSKU-P00110742\",\"offsetgroup\":\"DSKU-P00110742\",\"orientation\":\"v\",\"showlegend\":true,\"textposition\":\"auto\",\"x\":[\"DSKU-P00110742\"],\"xaxis\":\"x\",\"y\":[31038316.559999976],\"yaxis\":\"y\",\"type\":\"bar\"},{\"alignmentgroup\":\"True\",\"hovertemplate\":\"prod_id=%{x}<br>revenue_usd=%{y}<extra></extra>\",\"legendgroup\":\"DSKU-P00255842\",\"marker\":{\"color\":\"#00cc96\",\"pattern\":{\"shape\":\"\"}},\"name\":\"DSKU-P00255842\",\"offsetgroup\":\"DSKU-P00255842\",\"orientation\":\"v\",\"showlegend\":true,\"textposition\":\"auto\",\"x\":[\"DSKU-P00255842\"],\"xaxis\":\"x\",\"y\":[29002872.919999987],\"yaxis\":\"y\",\"type\":\"bar\"},{\"alignmentgroup\":\"True\",\"hovertemplate\":\"prod_id=%{x}<br>revenue_usd=%{y}<extra></extra>\",\"legendgroup\":\"DSKU-P00184942\",\"marker\":{\"color\":\"#ab63fa\",\"pattern\":{\"shape\":\"\"}},\"name\":\"DSKU-P00184942\",\"offsetgroup\":\"DSKU-P00184942\",\"orientation\":\"v\",\"showlegend\":true,\"textposition\":\"auto\",\"x\":[\"DSKU-P00184942\"],\"xaxis\":\"x\",\"y\":[28306907.010000028],\"yaxis\":\"y\",\"type\":\"bar\"},{\"alignmentgroup\":\"True\",\"hovertemplate\":\"prod_id=%{x}<br>revenue_usd=%{y}<extra></extra>\",\"legendgroup\":\"DSKU-P00059442\",\"marker\":{\"color\":\"#FFA15A\",\"pattern\":{\"shape\":\"\"}},\"name\":\"DSKU-P00059442\",\"offsetgroup\":\"DSKU-P00059442\",\"orientation\":\"v\",\"showlegend\":true,\"textposition\":\"auto\",\"x\":[\"DSKU-P00059442\"],\"xaxis\":\"x\",\"y\":[28174469.389999997],\"yaxis\":\"y\",\"type\":\"bar\"}],                        {\"template\":{\"data\":{\"bar\":[{\"error_x\":{\"color\":\"#2a3f5f\"},\"error_y\":{\"color\":\"#2a3f5f\"},\"marker\":{\"line\":{\"color\":\"#E5ECF6\",\"width\":0.5},\"pattern\":{\"fillmode\":\"overlay\",\"size\":10,\"solidity\":0.2}},\"type\":\"bar\"}],\"barpolar\":[{\"marker\":{\"line\":{\"color\":\"#E5ECF6\",\"width\":0.5},\"pattern\":{\"fillmode\":\"overlay\",\"size\":10,\"solidity\":0.2}},\"type\":\"barpolar\"}],\"carpet\":[{\"aaxis\":{\"endlinecolor\":\"#2a3f5f\",\"gridcolor\":\"white\",\"linecolor\":\"white\",\"minorgridcolor\":\"white\",\"startlinecolor\":\"#2a3f5f\"},\"baxis\":{\"endlinecolor\":\"#2a3f5f\",\"gridcolor\":\"white\",\"linecolor\":\"white\",\"minorgridcolor\":\"white\",\"startlinecolor\":\"#2a3f5f\"},\"type\":\"carpet\"}],\"choropleth\":[{\"colorbar\":{\"outlinewidth\":0,\"ticks\":\"\"},\"type\":\"choropleth\"}],\"contour\":[{\"colorbar\":{\"outlinewidth\":0,\"ticks\":\"\"},\"colorscale\":[[0.0,\"#0d0887\"],[0.1111111111111111,\"#46039f\"],[0.2222222222222222,\"#7201a8\"],[0.3333333333333333,\"#9c179e\"],[0.4444444444444444,\"#bd3786\"],[0.5555555555555556,\"#d8576b\"],[0.6666666666666666,\"#ed7953\"],[0.7777777777777778,\"#fb9f3a\"],[0.8888888888888888,\"#fdca26\"],[1.0,\"#f0f921\"]],\"type\":\"contour\"}],\"contourcarpet\":[{\"colorbar\":{\"outlinewidth\":0,\"ticks\":\"\"},\"type\":\"contourcarpet\"}],\"heatmap\":[{\"colorbar\":{\"outlinewidth\":0,\"ticks\":\"\"},\"colorscale\":[[0.0,\"#0d0887\"],[0.1111111111111111,\"#46039f\"],[0.2222222222222222,\"#7201a8\"],[0.3333333333333333,\"#9c179e\"],[0.4444444444444444,\"#bd3786\"],[0.5555555555555556,\"#d8576b\"],[0.6666666666666666,\"#ed7953\"],[0.7777777777777778,\"#fb9f3a\"],[0.8888888888888888,\"#fdca26\"],[1.0,\"#f0f921\"]],\"type\":\"heatmap\"}],\"heatmapgl\":[{\"colorbar\":{\"outlinewidth\":0,\"ticks\":\"\"},\"colorscale\":[[0.0,\"#0d0887\"],[0.1111111111111111,\"#46039f\"],[0.2222222222222222,\"#7201a8\"],[0.3333333333333333,\"#9c179e\"],[0.4444444444444444,\"#bd3786\"],[0.5555555555555556,\"#d8576b\"],[0.6666666666666666,\"#ed7953\"],[0.7777777777777778,\"#fb9f3a\"],[0.8888888888888888,\"#fdca26\"],[1.0,\"#f0f921\"]],\"type\":\"heatmapgl\"}],\"histogram\":[{\"marker\":{\"pattern\":{\"fillmode\":\"overlay\",\"size\":10,\"solidity\":0.2}},\"type\":\"histogram\"}],\"histogram2d\":[{\"colorbar\":{\"outlinewidth\":0,\"ticks\":\"\"},\"colorscale\":[[0.0,\"#0d0887\"],[0.1111111111111111,\"#46039f\"],[0.2222222222222222,\"#7201a8\"],[0.3333333333333333,\"#9c179e\"],[0.4444444444444444,\"#bd3786\"],[0.5555555555555556,\"#d8576b\"],[0.6666666666666666,\"#ed7953\"],[0.7777777777777778,\"#fb9f3a\"],[0.8888888888888888,\"#fdca26\"],[1.0,\"#f0f921\"]],\"type\":\"histogram2d\"}],\"histogram2dcontour\":[{\"colorbar\":{\"outlinewidth\":0,\"ticks\":\"\"},\"colorscale\":[[0.0,\"#0d0887\"],[0.1111111111111111,\"#46039f\"],[0.2222222222222222,\"#7201a8\"],[0.3333333333333333,\"#9c179e\"],[0.4444444444444444,\"#bd3786\"],[0.5555555555555556,\"#d8576b\"],[0.6666666666666666,\"#ed7953\"],[0.7777777777777778,\"#fb9f3a\"],[0.8888888888888888,\"#fdca26\"],[1.0,\"#f0f921\"]],\"type\":\"histogram2dcontour\"}],\"mesh3d\":[{\"colorbar\":{\"outlinewidth\":0,\"ticks\":\"\"},\"type\":\"mesh3d\"}],\"parcoords\":[{\"line\":{\"colorbar\":{\"outlinewidth\":0,\"ticks\":\"\"}},\"type\":\"parcoords\"}],\"pie\":[{\"automargin\":true,\"type\":\"pie\"}],\"scatter\":[{\"marker\":{\"colorbar\":{\"outlinewidth\":0,\"ticks\":\"\"}},\"type\":\"scatter\"}],\"scatter3d\":[{\"line\":{\"colorbar\":{\"outlinewidth\":0,\"ticks\":\"\"}},\"marker\":{\"colorbar\":{\"outlinewidth\":0,\"ticks\":\"\"}},\"type\":\"scatter3d\"}],\"scattercarpet\":[{\"marker\":{\"colorbar\":{\"outlinewidth\":0,\"ticks\":\"\"}},\"type\":\"scattercarpet\"}],\"scattergeo\":[{\"marker\":{\"colorbar\":{\"outlinewidth\":0,\"ticks\":\"\"}},\"type\":\"scattergeo\"}],\"scattergl\":[{\"marker\":{\"colorbar\":{\"outlinewidth\":0,\"ticks\":\"\"}},\"type\":\"scattergl\"}],\"scattermapbox\":[{\"marker\":{\"colorbar\":{\"outlinewidth\":0,\"ticks\":\"\"}},\"type\":\"scattermapbox\"}],\"scatterpolar\":[{\"marker\":{\"colorbar\":{\"outlinewidth\":0,\"ticks\":\"\"}},\"type\":\"scatterpolar\"}],\"scatterpolargl\":[{\"marker\":{\"colorbar\":{\"outlinewidth\":0,\"ticks\":\"\"}},\"type\":\"scatterpolargl\"}],\"scatterternary\":[{\"marker\":{\"colorbar\":{\"outlinewidth\":0,\"ticks\":\"\"}},\"type\":\"scatterternary\"}],\"surface\":[{\"colorbar\":{\"outlinewidth\":0,\"ticks\":\"\"},\"colorscale\":[[0.0,\"#0d0887\"],[0.1111111111111111,\"#46039f\"],[0.2222222222222222,\"#7201a8\"],[0.3333333333333333,\"#9c179e\"],[0.4444444444444444,\"#bd3786\"],[0.5555555555555556,\"#d8576b\"],[0.6666666666666666,\"#ed7953\"],[0.7777777777777778,\"#fb9f3a\"],[0.8888888888888888,\"#fdca26\"],[1.0,\"#f0f921\"]],\"type\":\"surface\"}],\"table\":[{\"cells\":{\"fill\":{\"color\":\"#EBF0F8\"},\"line\":{\"color\":\"white\"}},\"header\":{\"fill\":{\"color\":\"#C8D4E3\"},\"line\":{\"color\":\"white\"}},\"type\":\"table\"}]},\"layout\":{\"annotationdefaults\":{\"arrowcolor\":\"#2a3f5f\",\"arrowhead\":0,\"arrowwidth\":1},\"autotypenumbers\":\"strict\",\"coloraxis\":{\"colorbar\":{\"outlinewidth\":0,\"ticks\":\"\"}},\"colorscale\":{\"diverging\":[[0,\"#8e0152\"],[0.1,\"#c51b7d\"],[0.2,\"#de77ae\"],[0.3,\"#f1b6da\"],[0.4,\"#fde0ef\"],[0.5,\"#f7f7f7\"],[0.6,\"#e6f5d0\"],[0.7,\"#b8e186\"],[0.8,\"#7fbc41\"],[0.9,\"#4d9221\"],[1,\"#276419\"]],\"sequential\":[[0.0,\"#0d0887\"],[0.1111111111111111,\"#46039f\"],[0.2222222222222222,\"#7201a8\"],[0.3333333333333333,\"#9c179e\"],[0.4444444444444444,\"#bd3786\"],[0.5555555555555556,\"#d8576b\"],[0.6666666666666666,\"#ed7953\"],[0.7777777777777778,\"#fb9f3a\"],[0.8888888888888888,\"#fdca26\"],[1.0,\"#f0f921\"]],\"sequentialminus\":[[0.0,\"#0d0887\"],[0.1111111111111111,\"#46039f\"],[0.2222222222222222,\"#7201a8\"],[0.3333333333333333,\"#9c179e\"],[0.4444444444444444,\"#bd3786\"],[0.5555555555555556,\"#d8576b\"],[0.6666666666666666,\"#ed7953\"],[0.7777777777777778,\"#fb9f3a\"],[0.8888888888888888,\"#fdca26\"],[1.0,\"#f0f921\"]]},\"colorway\":[\"#636efa\",\"#EF553B\",\"#00cc96\",\"#ab63fa\",\"#FFA15A\",\"#19d3f3\",\"#FF6692\",\"#B6E880\",\"#FF97FF\",\"#FECB52\"],\"font\":{\"color\":\"#2a3f5f\"},\"geo\":{\"bgcolor\":\"white\",\"lakecolor\":\"white\",\"landcolor\":\"#E5ECF6\",\"showlakes\":true,\"showland\":true,\"subunitcolor\":\"white\"},\"hoverlabel\":{\"align\":\"left\"},\"hovermode\":\"closest\",\"mapbox\":{\"style\":\"light\"},\"paper_bgcolor\":\"white\",\"plot_bgcolor\":\"#E5ECF6\",\"polar\":{\"angularaxis\":{\"gridcolor\":\"white\",\"linecolor\":\"white\",\"ticks\":\"\"},\"bgcolor\":\"#E5ECF6\",\"radialaxis\":{\"gridcolor\":\"white\",\"linecolor\":\"white\",\"ticks\":\"\"}},\"scene\":{\"xaxis\":{\"backgroundcolor\":\"#E5ECF6\",\"gridcolor\":\"white\",\"gridwidth\":2,\"linecolor\":\"white\",\"showbackground\":true,\"ticks\":\"\",\"zerolinecolor\":\"white\"},\"yaxis\":{\"backgroundcolor\":\"#E5ECF6\",\"gridcolor\":\"white\",\"gridwidth\":2,\"linecolor\":\"white\",\"showbackground\":true,\"ticks\":\"\",\"zerolinecolor\":\"white\"},\"zaxis\":{\"backgroundcolor\":\"#E5ECF6\",\"gridcolor\":\"white\",\"gridwidth\":2,\"linecolor\":\"white\",\"showbackground\":true,\"ticks\":\"\",\"zerolinecolor\":\"white\"}},\"shapedefaults\":{\"line\":{\"color\":\"#2a3f5f\"}},\"ternary\":{\"aaxis\":{\"gridcolor\":\"white\",\"linecolor\":\"white\",\"ticks\":\"\"},\"baxis\":{\"gridcolor\":\"white\",\"linecolor\":\"white\",\"ticks\":\"\"},\"bgcolor\":\"#E5ECF6\",\"caxis\":{\"gridcolor\":\"white\",\"linecolor\":\"white\",\"ticks\":\"\"}},\"title\":{\"x\":0.05},\"xaxis\":{\"automargin\":true,\"gridcolor\":\"white\",\"linecolor\":\"white\",\"ticks\":\"\",\"title\":{\"standoff\":15},\"zerolinecolor\":\"white\",\"zerolinewidth\":2},\"yaxis\":{\"automargin\":true,\"gridcolor\":\"white\",\"linecolor\":\"white\",\"ticks\":\"\",\"title\":{\"standoff\":15},\"zerolinecolor\":\"white\",\"zerolinewidth\":2}}},\"xaxis\":{\"anchor\":\"y\",\"domain\":[0.0,1.0],\"title\":{\"text\":\"prod_id\"},\"categoryorder\":\"array\",\"categoryarray\":[\"DSKU-P00025442\",\"DSKU-P00110742\",\"DSKU-P00255842\",\"DSKU-P00184942\",\"DSKU-P00059442\"]},\"yaxis\":{\"anchor\":\"x\",\"domain\":[0.0,1.0],\"title\":{\"text\":\"revenue_usd\"}},\"legend\":{\"title\":{\"text\":\"prod_id\"},\"tracegroupgap\":0},\"title\":{\"text\":\"Top 5 Revenue generated Products\"},\"barmode\":\"relative\"},                        {\"responsive\": true}                    ).then(function(){\n",
       "                            \n",
       "var gd = document.getElementById('51a1faee-5291-4c82-8a63-d0f6467109b0');\n",
       "var x = new MutationObserver(function (mutations, observer) {{\n",
       "        var display = window.getComputedStyle(gd).display;\n",
       "        if (!display || display === 'none') {{\n",
       "            console.log([gd, 'removed!']);\n",
       "            Plotly.purge(gd);\n",
       "            observer.disconnect();\n",
       "        }}\n",
       "}});\n",
       "\n",
       "// Listen for the removal of the full notebook cells\n",
       "var notebookContainer = gd.closest('#notebook-container');\n",
       "if (notebookContainer) {{\n",
       "    x.observe(notebookContainer, {childList: true});\n",
       "}}\n",
       "\n",
       "// Listen for the clearing of the current output cell\n",
       "var outputEl = gd.closest('.output');\n",
       "if (outputEl) {{\n",
       "    x.observe(outputEl, {childList: true});\n",
       "}}\n",
       "\n",
       "                        })                };                });            </script>        </div>"
      ]
     },
     "metadata": {},
     "output_type": "display_data"
    }
   ],
   "source": [
    "import plotly.express as px\n",
    "# A bar plot showing Productwise Revenue generated\n",
    "fig = px.bar(prod_df, x=\"prod_id\", y=\"revenue_usd\", color=\"prod_id\", hover_data=['revenue_usd'],title=\"Top 5 Revenue generated Products\")\n",
    "fig.show()\n",
    "fig.write_image(\"prod_id.png\")"
   ]
  },
  {
   "cell_type": "code",
   "execution_count": 48,
   "id": "0ca2f387",
   "metadata": {},
   "outputs": [],
   "source": [
    "#Data Analysis done by Praveeja Sasidharan Suni"
   ]
  },
  {
   "cell_type": "code",
   "execution_count": null,
   "id": "81dbd5de",
   "metadata": {},
   "outputs": [],
   "source": []
  }
 ],
 "metadata": {
  "kernelspec": {
   "display_name": "Python 3",
   "language": "python",
   "name": "python3"
  },
  "language_info": {
   "codemirror_mode": {
    "name": "ipython",
    "version": 3
   },
   "file_extension": ".py",
   "mimetype": "text/x-python",
   "name": "python",
   "nbconvert_exporter": "python",
   "pygments_lexer": "ipython3",
   "version": "3.7.10"
  }
 },
 "nbformat": 4,
 "nbformat_minor": 5
}
